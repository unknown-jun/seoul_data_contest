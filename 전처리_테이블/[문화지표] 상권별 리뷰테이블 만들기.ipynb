{
 "cells": [
  {
   "cell_type": "code",
   "execution_count": 20,
   "metadata": {
    "ExecuteTime": {
     "end_time": "2021-10-19T21:41:09.808640Z",
     "start_time": "2021-10-19T21:41:09.800187Z"
    }
   },
   "outputs": [],
   "source": [
    "# 기초 전처리\n",
    "import pandas as pd\n",
    "import numpy as np\n",
    "\n",
    "# 시각화\n",
    "import matplotlib.pyplot as plt\n",
    "import seaborn as sns\n",
    "import folium\n",
    "import geopandas as gpd\n",
    "import os\n",
    "\n",
    "import warnings\n",
    "warnings.filterwarnings(action = 'ignore')\n",
    "\n",
    "# pandas 결과값의 표현 범위 소수점 2자리수로 변경\n",
    "pd.options.display.float_format = '{:.2f}'.format\n",
    "\n",
    "# 파일 로드위한 directory 확인 및 현재 경로로 설정\n",
    "a = os.getcwd()\n",
    "os.chdir(a)"
   ]
  },
  {
   "cell_type": "code",
   "execution_count": 21,
   "metadata": {
    "ExecuteTime": {
     "end_time": "2021-10-19T21:41:09.823629Z",
     "start_time": "2021-10-19T21:41:09.810636Z"
    }
   },
   "outputs": [],
   "source": [
    "# FastText에서 유사도로 측정한 맛, 친절, 분위기, 가격(긍정/부정) 에 대한 유의어 사전 load\n",
    "import json\n",
    "\n",
    "# Opening JSON file\n",
    "f = open('keyword_dict.json')\n",
    "\n",
    "# returns JSON object as\n",
    "# a dictionary\n",
    "keyword_dict = json.load(f)\n",
    "\n",
    "## Iterating through the json\n",
    "# list\n",
    "#for i in keyword_dict['emp_details']:\n",
    "#\tprint(i)\n",
    "\n",
    "# Closing file\n",
    "f.close()"
   ]
  },
  {
   "cell_type": "markdown",
   "metadata": {},
   "source": [
    "# 전체 과정 설명\n",
    "- 1) 웹크롤링한 서울시 상점정보를 geojson으로 만든다. (상점별 x,y좌표 보유한 df)\n",
    "- 2) Qgis를 활용 상점별 좌표를 기준으로 최근접 이웃 알고리즘으로 가장 인근에 위치한 상권과 연결 시킨다.\n",
    "- 3) Qgis로 작업한 geojson파일을 불러와서 상점정보 & 상권정보와 연결 시킨다. => 각 상점별 정보 + 상권정보 테이블 생성 (10281개 매장)\n",
    "- 4) 웹크롤링한 매장별 리뷰데이터를 3)에서 만든 테이블과 연결하여 각 매장별 리뷰 테이블을 만든다."
   ]
  },
  {
   "cell_type": "markdown",
   "metadata": {},
   "source": [
    "# 서울시 상점 정보로 geojson만들기"
   ]
  },
  {
   "cell_type": "code",
   "execution_count": 22,
   "metadata": {
    "ExecuteTime": {
     "end_time": "2021-10-19T21:41:09.978185Z",
     "start_time": "2021-10-19T21:41:09.825594Z"
    }
   },
   "outputs": [
    {
     "data": {
      "text/html": [
       "<div>\n",
       "<style scoped>\n",
       "    .dataframe tbody tr th:only-of-type {\n",
       "        vertical-align: middle;\n",
       "    }\n",
       "\n",
       "    .dataframe tbody tr th {\n",
       "        vertical-align: top;\n",
       "    }\n",
       "\n",
       "    .dataframe thead th {\n",
       "        text-align: right;\n",
       "    }\n",
       "</style>\n",
       "<table border=\"1\" class=\"dataframe\">\n",
       "  <thead>\n",
       "    <tr style=\"text-align: right;\">\n",
       "      <th></th>\n",
       "      <th>name</th>\n",
       "      <th>code_ne</th>\n",
       "      <th>r_type</th>\n",
       "      <th>address</th>\n",
       "      <th>tel</th>\n",
       "      <th>score</th>\n",
       "      <th>detail</th>\n",
       "      <th>strong</th>\n",
       "      <th>datalab_1</th>\n",
       "      <th>review_num</th>\n",
       "      <th>blog_num</th>\n",
       "      <th>x</th>\n",
       "      <th>y</th>\n",
       "    </tr>\n",
       "  </thead>\n",
       "  <tbody>\n",
       "    <tr>\n",
       "      <th>0</th>\n",
       "      <td>이삭토스트 개포동역점</td>\n",
       "      <td>38473617</td>\n",
       "      <td>토스트</td>\n",
       "      <td>서울 강남구 개포로 512 1층 109호</td>\n",
       "      <td>02-451-5421</td>\n",
       "      <td>4.7</td>\n",
       "      <td>이삭토스트 서울 개포동역점의 바로주문 페이지 입니다. [찾아오시는 길] -개포동역(...</td>\n",
       "      <td>NaN</td>\n",
       "      <td>{}</td>\n",
       "      <td>239</td>\n",
       "      <td>15.0</td>\n",
       "      <td>127.07</td>\n",
       "      <td>37.49</td>\n",
       "    </tr>\n",
       "    <tr>\n",
       "      <th>1</th>\n",
       "      <td>개포동장군주먹고기</td>\n",
       "      <td>1258223030</td>\n",
       "      <td>돼지고기구이</td>\n",
       "      <td>서울 강남구 개포로82길 9-15 1층</td>\n",
       "      <td>0507-1300-7367</td>\n",
       "      <td>4.49</td>\n",
       "      <td>개포동 186-9 1층입니다. 개포 5단지 인근 상가거리에있습니다. 개포동역 5번출...</td>\n",
       "      <td>NaN</td>\n",
       "      <td>{}</td>\n",
       "      <td>49</td>\n",
       "      <td>20.0</td>\n",
       "      <td>127.07</td>\n",
       "      <td>37.49</td>\n",
       "    </tr>\n",
       "  </tbody>\n",
       "</table>\n",
       "</div>"
      ],
      "text/plain": [
       "          name     code_ne  r_type                 address             tel  \\\n",
       "0  이삭토스트 개포동역점    38473617     토스트  서울 강남구 개포로 512 1층 109호     02-451-5421   \n",
       "1    개포동장군주먹고기  1258223030  돼지고기구이   서울 강남구 개포로82길 9-15 1층  0507-1300-7367   \n",
       "\n",
       "  score                                             detail  strong datalab_1  \\\n",
       "0   4.7  이삭토스트 서울 개포동역점의 바로주문 페이지 입니다. [찾아오시는 길] -개포동역(...     NaN        {}   \n",
       "1  4.49  개포동 186-9 1층입니다. 개포 5단지 인근 상가거리에있습니다. 개포동역 5번출...     NaN        {}   \n",
       "\n",
       "  review_num blog_num      x     y  \n",
       "0        239     15.0 127.07 37.49  \n",
       "1         49     20.0 127.07 37.49  "
      ]
     },
     "execution_count": 22,
     "metadata": {},
     "output_type": "execute_result"
    }
   ],
   "source": [
    "# 서울시 상점 정보 불러오기\n",
    "df = pd.read_csv('가게정보_서울시.csv')\n",
    "df.head(2)"
   ]
  },
  {
   "cell_type": "code",
   "execution_count": 23,
   "metadata": {
    "ExecuteTime": {
     "end_time": "2021-10-19T21:41:09.993145Z",
     "start_time": "2021-10-19T21:41:09.980180Z"
    }
   },
   "outputs": [],
   "source": [
    "# 필요 컬럼만 추출\n",
    "store  = df[['name','x','y']]"
   ]
  },
  {
   "cell_type": "code",
   "execution_count": 24,
   "metadata": {
    "ExecuteTime": {
     "end_time": "2021-10-19T21:41:10.489816Z",
     "start_time": "2021-10-19T21:41:09.995140Z"
    }
   },
   "outputs": [],
   "source": [
    "# geojson변환 위해 좌표지정\n",
    "from shapely.geometry import Point\n",
    "pd.reset_option('display.float_format')\n",
    "store['x'] = store.x.astype(float)\n",
    "store['y'] = store.y.astype(float)\n",
    "\n",
    "# geojson으로 변환\n",
    "geometry = [Point(xy) for xy in zip(store.x, store.y)]\n",
    "store_w_gpd = gpd.GeoDataFrame(store, crs='EPSG:4326', geometry=geometry)"
   ]
  },
  {
   "cell_type": "code",
   "execution_count": 25,
   "metadata": {
    "ExecuteTime": {
     "end_time": "2021-10-19T21:41:10.504776Z",
     "start_time": "2021-10-19T21:41:10.491811Z"
    }
   },
   "outputs": [
    {
     "data": {
      "text/html": [
       "<div>\n",
       "<style scoped>\n",
       "    .dataframe tbody tr th:only-of-type {\n",
       "        vertical-align: middle;\n",
       "    }\n",
       "\n",
       "    .dataframe tbody tr th {\n",
       "        vertical-align: top;\n",
       "    }\n",
       "\n",
       "    .dataframe thead th {\n",
       "        text-align: right;\n",
       "    }\n",
       "</style>\n",
       "<table border=\"1\" class=\"dataframe\">\n",
       "  <thead>\n",
       "    <tr style=\"text-align: right;\">\n",
       "      <th></th>\n",
       "      <th>name</th>\n",
       "      <th>x</th>\n",
       "      <th>y</th>\n",
       "      <th>geometry</th>\n",
       "    </tr>\n",
       "  </thead>\n",
       "  <tbody>\n",
       "    <tr>\n",
       "      <th>0</th>\n",
       "      <td>이삭토스트 개포동역점</td>\n",
       "      <td>127.068842</td>\n",
       "      <td>37.489307</td>\n",
       "      <td>POINT (127.06884 37.48931)</td>\n",
       "    </tr>\n",
       "    <tr>\n",
       "      <th>1</th>\n",
       "      <td>개포동장군주먹고기</td>\n",
       "      <td>127.068254</td>\n",
       "      <td>37.488977</td>\n",
       "      <td>POINT (127.06825 37.48898)</td>\n",
       "    </tr>\n",
       "    <tr>\n",
       "      <th>2</th>\n",
       "      <td>드림트레이</td>\n",
       "      <td>127.046346</td>\n",
       "      <td>37.477771</td>\n",
       "      <td>POINT (127.04635 37.47777)</td>\n",
       "    </tr>\n",
       "    <tr>\n",
       "      <th>3</th>\n",
       "      <td>라피노</td>\n",
       "      <td>127.049622</td>\n",
       "      <td>37.477314</td>\n",
       "      <td>POINT (127.04962 37.47731)</td>\n",
       "    </tr>\n",
       "    <tr>\n",
       "      <th>4</th>\n",
       "      <td>블랑커피</td>\n",
       "      <td>127.050083</td>\n",
       "      <td>37.475814</td>\n",
       "      <td>POINT (127.05008 37.47581)</td>\n",
       "    </tr>\n",
       "  </tbody>\n",
       "</table>\n",
       "</div>"
      ],
      "text/plain": [
       "          name           x          y                    geometry\n",
       "0  이삭토스트 개포동역점  127.068842  37.489307  POINT (127.06884 37.48931)\n",
       "1    개포동장군주먹고기  127.068254  37.488977  POINT (127.06825 37.48898)\n",
       "2        드림트레이  127.046346  37.477771  POINT (127.04635 37.47777)\n",
       "3          라피노  127.049622  37.477314  POINT (127.04962 37.47731)\n",
       "4         블랑커피  127.050083  37.475814  POINT (127.05008 37.47581)"
      ]
     },
     "execution_count": 25,
     "metadata": {},
     "output_type": "execute_result"
    }
   ],
   "source": [
    "store_w_gpd.head()"
   ]
  },
  {
   "cell_type": "code",
   "execution_count": 26,
   "metadata": {
    "ExecuteTime": {
     "end_time": "2021-10-19T21:41:10.520763Z",
     "start_time": "2021-10-19T21:41:10.506771Z"
    }
   },
   "outputs": [],
   "source": [
    "# 결과 저장\n",
    "#store_w_gpd.to_file(\"서울시_상점좌표.geojson\", driver='GeoJSON', encoding='utf-8')"
   ]
  },
  {
   "cell_type": "markdown",
   "metadata": {},
   "source": [
    "# Qgis로 일치영역 찾기\n",
    "- 상권_geometry_좌표(골목).geojson 에서 각 상점의 중심점을 구하고 서울시 상점좌표(store_w_gpd)를 활용해 둘 사이의 최근접 허브(포인트)를 계산 (결과값 HubName에 저장)\n",
    "- 각 상점 별로 가장 근접한 상권(HubName)을 찾았다."
   ]
  },
  {
   "cell_type": "markdown",
   "metadata": {},
   "source": [
    "# 상권정보와 상점정보 합치기"
   ]
  },
  {
   "cell_type": "code",
   "execution_count": 27,
   "metadata": {
    "ExecuteTime": {
     "end_time": "2021-10-19T21:41:12.149231Z",
     "start_time": "2021-10-19T21:41:10.523725Z"
    }
   },
   "outputs": [],
   "source": [
    "# 상권 관련 정보 \n",
    "place = gpd.read_file('상점_인근_상권.geojson', driver= 'GeoJSON', encoding='cp949')\n",
    "\n",
    "# 상권 내 상점 정보\n",
    "bs_area = gpd.read_file('상권_geometry_좌표(골목).geojson', driver= 'GeoJSON', encoding='cp949')"
   ]
  },
  {
   "cell_type": "code",
   "execution_count": 28,
   "metadata": {
    "ExecuteTime": {
     "end_time": "2021-10-19T21:41:12.194169Z",
     "start_time": "2021-10-19T21:41:12.151227Z"
    },
    "scrolled": false
   },
   "outputs": [
    {
     "name": "stdout",
     "output_type": "stream",
     "text": [
      "<class 'geopandas.geodataframe.GeoDataFrame'>\n",
      "Int64Index: 10569 entries, 0 to 10568\n",
      "Data columns (total 17 columns):\n",
      " #   Column      Non-Null Count  Dtype   \n",
      "---  ------      --------------  -----   \n",
      " 0   name        10569 non-null  object  \n",
      " 1   HubName     10569 non-null  object  \n",
      " 2   geometry_x  10569 non-null  geometry\n",
      " 3   TRDAR_SE_C  10569 non-null  object  \n",
      " 4   TRDAR_SE_1  10569 non-null  object  \n",
      " 5   TRDAR_CD    10569 non-null  object  \n",
      " 6   TRDAR_CD_N  10569 non-null  object  \n",
      " 7   XCNTS_VALU  10569 non-null  int64   \n",
      " 8   YDNTS_VALU  10569 non-null  int64   \n",
      " 9   SIGNGU_CD   10569 non-null  object  \n",
      " 10  ADSTRD_CD   10569 non-null  object  \n",
      " 11  STDR_YM_CD  10569 non-null  object  \n",
      " 12  area        10569 non-null  float64 \n",
      " 13  perimeter   10569 non-null  float64 \n",
      " 14  x           10569 non-null  float64 \n",
      " 15  y           10569 non-null  float64 \n",
      " 16  geometry_y  10569 non-null  geometry\n",
      "dtypes: float64(4), geometry(2), int64(2), object(9)\n",
      "memory usage: 1.5+ MB\n"
     ]
    }
   ],
   "source": [
    "# 상권내 존재하는 상점 정보(place) & 상권에 대한 정보(bs_area)를 '상권명' 기준으로 병합\n",
    "merged_df = pd.merge(place, bs_area, left_on='HubName',right_on='TRDAR_CD_N')\n",
    "merged_df.info()"
   ]
  },
  {
   "cell_type": "code",
   "execution_count": 29,
   "metadata": {
    "ExecuteTime": {
     "end_time": "2021-10-19T21:41:12.224060Z",
     "start_time": "2021-10-19T21:41:12.196135Z"
    }
   },
   "outputs": [
    {
     "name": "stdout",
     "output_type": "stream",
     "text": [
      "<class 'pandas.core.frame.DataFrame'>\n",
      "Int64Index: 10569 entries, 0 to 10568\n",
      "Data columns (total 3 columns):\n",
      " #   Column      Non-Null Count  Dtype \n",
      "---  ------      --------------  ----- \n",
      " 0   name        10569 non-null  object\n",
      " 1   TRDAR_CD    10569 non-null  object\n",
      " 2   TRDAR_CD_N  10569 non-null  object\n",
      "dtypes: object(3)\n",
      "memory usage: 330.3+ KB\n"
     ]
    }
   ],
   "source": [
    "# 필요 컬럼 추출 (병합 예정)\n",
    "merged_bs_area  = merged_df[['name','TRDAR_CD','TRDAR_CD_N']]\n",
    "merged_bs_area.info()"
   ]
  },
  {
   "cell_type": "code",
   "execution_count": 30,
   "metadata": {
    "ExecuteTime": {
     "end_time": "2021-10-19T21:41:12.255974Z",
     "start_time": "2021-10-19T21:41:12.225057Z"
    }
   },
   "outputs": [
    {
     "name": "stdout",
     "output_type": "stream",
     "text": [
      "<class 'pandas.core.frame.DataFrame'>\n",
      "RangeIndex: 10569 entries, 0 to 10568\n",
      "Data columns (total 9 columns):\n",
      " #   Column      Non-Null Count  Dtype  \n",
      "---  ------      --------------  -----  \n",
      " 0   name        10569 non-null  object \n",
      " 1   code_ne     10569 non-null  int64  \n",
      " 2   r_type      10569 non-null  object \n",
      " 3   address     10569 non-null  object \n",
      " 4   score       10551 non-null  object \n",
      " 5   review_num  10486 non-null  object \n",
      " 6   blog_num    10225 non-null  object \n",
      " 7   x           10569 non-null  float64\n",
      " 8   y           10569 non-null  float64\n",
      "dtypes: float64(2), int64(1), object(6)\n",
      "memory usage: 743.3+ KB\n"
     ]
    }
   ],
   "source": [
    "# 상점 정보에서 필요 내용만 추출\n",
    "store2  = df[['name','code_ne','r_type','address','score','review_num','blog_num','x','y']]\n",
    "store2.info()"
   ]
  },
  {
   "cell_type": "code",
   "execution_count": 31,
   "metadata": {
    "ExecuteTime": {
     "end_time": "2021-10-19T21:41:12.302849Z",
     "start_time": "2021-10-19T21:41:12.258967Z"
    }
   },
   "outputs": [
    {
     "name": "stdout",
     "output_type": "stream",
     "text": [
      "<class 'pandas.core.frame.DataFrame'>\n",
      "Int64Index: 11203 entries, 0 to 11202\n",
      "Data columns (total 11 columns):\n",
      " #   Column      Non-Null Count  Dtype  \n",
      "---  ------      --------------  -----  \n",
      " 0   name        11203 non-null  object \n",
      " 1   TRDAR_CD    11203 non-null  object \n",
      " 2   TRDAR_CD_N  11203 non-null  object \n",
      " 3   code_ne     11203 non-null  int64  \n",
      " 4   r_type      11203 non-null  object \n",
      " 5   address     11203 non-null  object \n",
      " 6   score       11185 non-null  object \n",
      " 7   review_num  11118 non-null  object \n",
      " 8   blog_num    10847 non-null  object \n",
      " 9   x           11203 non-null  float64\n",
      " 10  y           11203 non-null  float64\n",
      "dtypes: float64(2), int64(1), object(8)\n",
      "memory usage: 1.0+ MB\n"
     ]
    }
   ],
   "source": [
    "# 상점 정보 & 상권 내 상점 정보 & 상권 정보 병합\n",
    "store_review_by_bs = pd.merge(merged_bs_area, store2, on='name', how='left')\n",
    "store_review_by_bs.info()"
   ]
  },
  {
   "cell_type": "code",
   "execution_count": 32,
   "metadata": {
    "ExecuteTime": {
     "end_time": "2021-10-19T21:41:12.317811Z",
     "start_time": "2021-10-19T21:41:12.304844Z"
    }
   },
   "outputs": [
    {
     "name": "stdout",
     "output_type": "stream",
     "text": [
      "기존 상점의 개수: 10281\n",
      "상권내 상점의 개수: 10281\n",
      "상권개수: 879\n"
     ]
    }
   ],
   "source": [
    "# 상점 수의 unique값이 일치하는 것으로 보아 유실된 데이터가 없다.\n",
    "print(f'기존 상점의 개수:', len(store['name'].unique()))\n",
    "print(f'상권내 상점의 개수:', len(store_review_by_bs['name'].unique()))\n",
    "\n",
    "print(f'상권개수:', len(store_review_by_bs['TRDAR_CD'].unique()))"
   ]
  },
  {
   "cell_type": "code",
   "execution_count": 33,
   "metadata": {
    "ExecuteTime": {
     "end_time": "2021-10-19T21:41:12.332770Z",
     "start_time": "2021-10-19T21:41:12.319804Z"
    }
   },
   "outputs": [],
   "source": [
    "# 중복값이 발생.. 원인을 모르겠넴..\n",
    "# 일단 제거\n",
    "store_review_by_bs = store_review_by_bs.drop_duplicates('name')"
   ]
  },
  {
   "cell_type": "code",
   "execution_count": 34,
   "metadata": {
    "ExecuteTime": {
     "end_time": "2021-10-19T21:41:12.364683Z",
     "start_time": "2021-10-19T21:41:12.336760Z"
    }
   },
   "outputs": [
    {
     "name": "stdout",
     "output_type": "stream",
     "text": [
      "<class 'pandas.core.frame.DataFrame'>\n",
      "Int64Index: 10281 entries, 0 to 11202\n",
      "Data columns (total 11 columns):\n",
      " #   Column      Non-Null Count  Dtype  \n",
      "---  ------      --------------  -----  \n",
      " 0   name        10281 non-null  object \n",
      " 1   TRDAR_CD    10281 non-null  object \n",
      " 2   TRDAR_CD_N  10281 non-null  object \n",
      " 3   code_ne     10281 non-null  int64  \n",
      " 4   r_type      10281 non-null  object \n",
      " 5   address     10281 non-null  object \n",
      " 6   score       10263 non-null  object \n",
      " 7   review_num  10199 non-null  object \n",
      " 8   blog_num    9943 non-null   object \n",
      " 9   x           10281 non-null  float64\n",
      " 10  y           10281 non-null  float64\n",
      "dtypes: float64(2), int64(1), object(8)\n",
      "memory usage: 963.8+ KB\n"
     ]
    }
   ],
   "source": [
    "# x,y는 상점의 좌표\n",
    "store_review_by_bs.info()"
   ]
  },
  {
   "cell_type": "code",
   "execution_count": 35,
   "metadata": {
    "ExecuteTime": {
     "end_time": "2021-10-19T21:41:12.396598Z",
     "start_time": "2021-10-19T21:41:12.367677Z"
    }
   },
   "outputs": [
    {
     "data": {
      "text/html": [
       "<div>\n",
       "<style scoped>\n",
       "    .dataframe tbody tr th:only-of-type {\n",
       "        vertical-align: middle;\n",
       "    }\n",
       "\n",
       "    .dataframe tbody tr th {\n",
       "        vertical-align: top;\n",
       "    }\n",
       "\n",
       "    .dataframe thead th {\n",
       "        text-align: right;\n",
       "    }\n",
       "</style>\n",
       "<table border=\"1\" class=\"dataframe\">\n",
       "  <thead>\n",
       "    <tr style=\"text-align: right;\">\n",
       "      <th></th>\n",
       "      <th>name</th>\n",
       "      <th>TRDAR_CD</th>\n",
       "      <th>TRDAR_CD_N</th>\n",
       "      <th>code_ne</th>\n",
       "      <th>r_type</th>\n",
       "      <th>address</th>\n",
       "      <th>score</th>\n",
       "      <th>review_num</th>\n",
       "      <th>blog_num</th>\n",
       "      <th>x</th>\n",
       "      <th>y</th>\n",
       "    </tr>\n",
       "  </thead>\n",
       "  <tbody>\n",
       "    <tr>\n",
       "      <th>0</th>\n",
       "      <td>이삭토스트 개포동역점</td>\n",
       "      <td>1000892</td>\n",
       "      <td>개포로82길</td>\n",
       "      <td>38473617</td>\n",
       "      <td>토스트</td>\n",
       "      <td>서울 강남구 개포로 512 1층 109호</td>\n",
       "      <td>4.7</td>\n",
       "      <td>239</td>\n",
       "      <td>15.0</td>\n",
       "      <td>127.068842</td>\n",
       "      <td>37.489307</td>\n",
       "    </tr>\n",
       "    <tr>\n",
       "      <th>1</th>\n",
       "      <td>개포동장군주먹고기</td>\n",
       "      <td>1000892</td>\n",
       "      <td>개포로82길</td>\n",
       "      <td>1258223030</td>\n",
       "      <td>돼지고기구이</td>\n",
       "      <td>서울 강남구 개포로82길 9-15 1층</td>\n",
       "      <td>4.49</td>\n",
       "      <td>49</td>\n",
       "      <td>20.0</td>\n",
       "      <td>127.068254</td>\n",
       "      <td>37.488977</td>\n",
       "    </tr>\n",
       "    <tr>\n",
       "      <th>2</th>\n",
       "      <td>커피마마퀸 개포동점</td>\n",
       "      <td>1000892</td>\n",
       "      <td>개포로82길</td>\n",
       "      <td>1233704717</td>\n",
       "      <td>카페,디저트</td>\n",
       "      <td>서울 강남구 삼성로 38</td>\n",
       "      <td>4.75</td>\n",
       "      <td>51</td>\n",
       "      <td>7.0</td>\n",
       "      <td>127.066845</td>\n",
       "      <td>37.488688</td>\n",
       "    </tr>\n",
       "    <tr>\n",
       "      <th>3</th>\n",
       "      <td>강남초장</td>\n",
       "      <td>1000892</td>\n",
       "      <td>개포로82길</td>\n",
       "      <td>1277913587</td>\n",
       "      <td>생선회</td>\n",
       "      <td>서울 강남구 개포로 510 1층 110~111호</td>\n",
       "      <td>4.04</td>\n",
       "      <td>23</td>\n",
       "      <td>10.0</td>\n",
       "      <td>127.068344</td>\n",
       "      <td>37.489288</td>\n",
       "    </tr>\n",
       "    <tr>\n",
       "      <th>4</th>\n",
       "      <td>스텔라떡볶이 개포점</td>\n",
       "      <td>1000892</td>\n",
       "      <td>개포로82길</td>\n",
       "      <td>1264091478</td>\n",
       "      <td>떡볶이</td>\n",
       "      <td>서울 강남구 개포로82길 13-15 지상1층 5호, 9호</td>\n",
       "      <td>4.51</td>\n",
       "      <td>67</td>\n",
       "      <td>48.0</td>\n",
       "      <td>127.068348</td>\n",
       "      <td>37.488821</td>\n",
       "    </tr>\n",
       "    <tr>\n",
       "      <th>...</th>\n",
       "      <td>...</td>\n",
       "      <td>...</td>\n",
       "      <td>...</td>\n",
       "      <td>...</td>\n",
       "      <td>...</td>\n",
       "      <td>...</td>\n",
       "      <td>...</td>\n",
       "      <td>...</td>\n",
       "      <td>...</td>\n",
       "      <td>...</td>\n",
       "      <td>...</td>\n",
       "    </tr>\n",
       "    <tr>\n",
       "      <th>11198</th>\n",
       "      <td>오르새피자 중화점</td>\n",
       "      <td>1000234</td>\n",
       "      <td>동일로139길</td>\n",
       "      <td>905419007</td>\n",
       "      <td>피자</td>\n",
       "      <td>서울 중랑구 중랑역로 104 동원데쟈뷰</td>\n",
       "      <td>4.41</td>\n",
       "      <td>75</td>\n",
       "      <td>23</td>\n",
       "      <td>127.077721</td>\n",
       "      <td>37.602700</td>\n",
       "    </tr>\n",
       "    <tr>\n",
       "      <th>11199</th>\n",
       "      <td>콩닢</td>\n",
       "      <td>1000234</td>\n",
       "      <td>동일로139길</td>\n",
       "      <td>584670846</td>\n",
       "      <td>두부요리</td>\n",
       "      <td>서울 중랑구 동일로 799-6</td>\n",
       "      <td>4.22</td>\n",
       "      <td>151</td>\n",
       "      <td>31</td>\n",
       "      <td>127.078980</td>\n",
       "      <td>37.601979</td>\n",
       "    </tr>\n",
       "    <tr>\n",
       "      <th>11200</th>\n",
       "      <td>김연수 소갈비살</td>\n",
       "      <td>1000234</td>\n",
       "      <td>동일로139길</td>\n",
       "      <td>1480979128</td>\n",
       "      <td>소고기구이</td>\n",
       "      <td>서울 중랑구 중랑역로 94</td>\n",
       "      <td>4.2</td>\n",
       "      <td>65</td>\n",
       "      <td>24</td>\n",
       "      <td>127.077886</td>\n",
       "      <td>37.601927</td>\n",
       "    </tr>\n",
       "    <tr>\n",
       "      <th>11201</th>\n",
       "      <td>총각집곱창</td>\n",
       "      <td>1000234</td>\n",
       "      <td>동일로139길</td>\n",
       "      <td>18882325</td>\n",
       "      <td>곱창,막창,양</td>\n",
       "      <td>서울 중랑구 중랑역로 100 디엠씨빌딩</td>\n",
       "      <td>4.48</td>\n",
       "      <td>385</td>\n",
       "      <td>102</td>\n",
       "      <td>127.077798</td>\n",
       "      <td>37.602430</td>\n",
       "    </tr>\n",
       "    <tr>\n",
       "      <th>11202</th>\n",
       "      <td>김시우초밥</td>\n",
       "      <td>1000232</td>\n",
       "      <td>동일로130길</td>\n",
       "      <td>1668775323</td>\n",
       "      <td>초밥,롤</td>\n",
       "      <td>서울 중랑구 봉화산로 52 1층 김시우초밥</td>\n",
       "      <td>4.42</td>\n",
       "      <td>764</td>\n",
       "      <td>63</td>\n",
       "      <td>127.080222</td>\n",
       "      <td>37.601425</td>\n",
       "    </tr>\n",
       "  </tbody>\n",
       "</table>\n",
       "<p>10281 rows × 11 columns</p>\n",
       "</div>"
      ],
      "text/plain": [
       "              name TRDAR_CD TRDAR_CD_N     code_ne   r_type  \\\n",
       "0      이삭토스트 개포동역점  1000892     개포로82길    38473617      토스트   \n",
       "1        개포동장군주먹고기  1000892     개포로82길  1258223030   돼지고기구이   \n",
       "2       커피마마퀸 개포동점  1000892     개포로82길  1233704717   카페,디저트   \n",
       "3             강남초장  1000892     개포로82길  1277913587      생선회   \n",
       "4       스텔라떡볶이 개포점  1000892     개포로82길  1264091478      떡볶이   \n",
       "...            ...      ...        ...         ...      ...   \n",
       "11198    오르새피자 중화점  1000234    동일로139길   905419007       피자   \n",
       "11199           콩닢  1000234    동일로139길   584670846     두부요리   \n",
       "11200     김연수 소갈비살  1000234    동일로139길  1480979128    소고기구이   \n",
       "11201        총각집곱창  1000234    동일로139길    18882325  곱창,막창,양   \n",
       "11202        김시우초밥  1000232    동일로130길  1668775323     초밥,롤   \n",
       "\n",
       "                               address score review_num blog_num           x  \\\n",
       "0               서울 강남구 개포로 512 1층 109호   4.7        239     15.0  127.068842   \n",
       "1                서울 강남구 개포로82길 9-15 1층  4.49         49     20.0  127.068254   \n",
       "2                        서울 강남구 삼성로 38  4.75         51      7.0  127.066845   \n",
       "3           서울 강남구 개포로 510 1층 110~111호  4.04         23     10.0  127.068344   \n",
       "4      서울 강남구 개포로82길 13-15 지상1층 5호, 9호  4.51         67     48.0  127.068348   \n",
       "...                                ...   ...        ...      ...         ...   \n",
       "11198            서울 중랑구 중랑역로 104 동원데쟈뷰  4.41         75       23  127.077721   \n",
       "11199                 서울 중랑구 동일로 799-6  4.22        151       31  127.078980   \n",
       "11200                   서울 중랑구 중랑역로 94   4.2         65       24  127.077886   \n",
       "11201            서울 중랑구 중랑역로 100 디엠씨빌딩  4.48        385      102  127.077798   \n",
       "11202          서울 중랑구 봉화산로 52 1층 김시우초밥  4.42        764       63  127.080222   \n",
       "\n",
       "               y  \n",
       "0      37.489307  \n",
       "1      37.488977  \n",
       "2      37.488688  \n",
       "3      37.489288  \n",
       "4      37.488821  \n",
       "...          ...  \n",
       "11198  37.602700  \n",
       "11199  37.601979  \n",
       "11200  37.601927  \n",
       "11201  37.602430  \n",
       "11202  37.601425  \n",
       "\n",
       "[10281 rows x 11 columns]"
      ]
     },
     "execution_count": 35,
     "metadata": {},
     "output_type": "execute_result"
    }
   ],
   "source": [
    "store_review_by_bs"
   ]
  },
  {
   "cell_type": "code",
   "execution_count": 36,
   "metadata": {
    "ExecuteTime": {
     "end_time": "2021-10-19T21:41:12.501318Z",
     "start_time": "2021-10-19T21:41:12.398593Z"
    }
   },
   "outputs": [],
   "source": [
    "# 결과 저장\n",
    "store_review_by_bs.to_csv('상권_내_상점.csv', encoding='utf-8')"
   ]
  },
  {
   "cell_type": "code",
   "execution_count": 37,
   "metadata": {
    "ExecuteTime": {
     "end_time": "2021-10-19T21:41:12.516277Z",
     "start_time": "2021-10-19T21:41:12.503313Z"
    }
   },
   "outputs": [
    {
     "data": {
      "text/plain": [
       "876"
      ]
     },
     "execution_count": 37,
     "metadata": {},
     "output_type": "execute_result"
    }
   ],
   "source": [
    "# 전체 골목상권 1010개중 876개에 대한 상점 정보\n",
    "len(store_review_by_bs['TRDAR_CD'].unique())"
   ]
  },
  {
   "cell_type": "markdown",
   "metadata": {},
   "source": [
    "# 상권별 리뷰데이터 생성"
   ]
  },
  {
   "cell_type": "code",
   "execution_count": 38,
   "metadata": {
    "ExecuteTime": {
     "end_time": "2021-10-19T21:41:19.091901Z",
     "start_time": "2021-10-19T21:41:12.518273Z"
    }
   },
   "outputs": [
    {
     "name": "stdout",
     "output_type": "stream",
     "text": [
      "<class 'pandas.core.frame.DataFrame'>\n",
      "RangeIndex: 1136877 entries, 0 to 1136876\n",
      "Data columns (total 9 columns):\n",
      " #   Column         Non-Null Count    Dtype  \n",
      "---  ------         --------------    -----  \n",
      " 0   name           1136877 non-null  object \n",
      " 1   code_no        1136877 non-null  int64  \n",
      " 2   reviewer_info  1136877 non-null  object \n",
      " 3   r_score        1136877 non-null  float64\n",
      " 4   r_date         1136877 non-null  object \n",
      " 5   r_times        1136877 non-null  object \n",
      " 6   proving        1136690 non-null  object \n",
      " 7   r_comments     1105677 non-null  object \n",
      " 8   owner_reply    90998 non-null    object \n",
      "dtypes: float64(1), int64(1), object(7)\n",
      "memory usage: 78.1+ MB\n"
     ]
    }
   ],
   "source": [
    "review_data = pd.read_csv('리뷰정보_서울시.csv', encoding='utf-8')\n",
    "review_data.info() # 총 1105677개의 리뷰"
   ]
  },
  {
   "cell_type": "code",
   "execution_count": 39,
   "metadata": {
    "ExecuteTime": {
     "end_time": "2021-10-19T21:41:20.081888Z",
     "start_time": "2021-10-19T21:41:19.093896Z"
    },
    "scrolled": false
   },
   "outputs": [
    {
     "data": {
      "text/html": [
       "<div>\n",
       "<style scoped>\n",
       "    .dataframe tbody tr th:only-of-type {\n",
       "        vertical-align: middle;\n",
       "    }\n",
       "\n",
       "    .dataframe tbody tr th {\n",
       "        vertical-align: top;\n",
       "    }\n",
       "\n",
       "    .dataframe thead th {\n",
       "        text-align: right;\n",
       "    }\n",
       "</style>\n",
       "<table border=\"1\" class=\"dataframe\">\n",
       "  <thead>\n",
       "    <tr style=\"text-align: right;\">\n",
       "      <th></th>\n",
       "      <th>name</th>\n",
       "      <th>TRDAR_CD</th>\n",
       "      <th>TRDAR_CD_N</th>\n",
       "      <th>code_ne</th>\n",
       "      <th>r_type</th>\n",
       "      <th>address</th>\n",
       "      <th>score</th>\n",
       "      <th>review_num</th>\n",
       "      <th>blog_num</th>\n",
       "      <th>x</th>\n",
       "      <th>y</th>\n",
       "      <th>code_no</th>\n",
       "      <th>reviewer_info</th>\n",
       "      <th>r_score</th>\n",
       "      <th>r_date</th>\n",
       "      <th>r_times</th>\n",
       "      <th>proving</th>\n",
       "      <th>r_comments</th>\n",
       "      <th>owner_reply</th>\n",
       "    </tr>\n",
       "  </thead>\n",
       "  <tbody>\n",
       "    <tr>\n",
       "      <th>0</th>\n",
       "      <td>이삭토스트 개포동역점</td>\n",
       "      <td>1000892</td>\n",
       "      <td>개포로82길</td>\n",
       "      <td>38473617</td>\n",
       "      <td>토스트</td>\n",
       "      <td>서울 강남구 개포로 512 1층 109호</td>\n",
       "      <td>4.7</td>\n",
       "      <td>239</td>\n",
       "      <td>15.0</td>\n",
       "      <td>127.068842</td>\n",
       "      <td>37.489307</td>\n",
       "      <td>38473617.0</td>\n",
       "      <td>{'평균_별점': '5', '사진': 'NA', '리뷰': '1'}</td>\n",
       "      <td>5.0</td>\n",
       "      <td>2021.10.04</td>\n",
       "      <td>2번째 방문</td>\n",
       "      <td>주문</td>\n",
       "      <td>맛있어요! ㅋㅋ사장님 두분도 친절하세요! 최고</td>\n",
       "      <td>NaN</td>\n",
       "    </tr>\n",
       "    <tr>\n",
       "      <th>1</th>\n",
       "      <td>이삭토스트 개포동역점</td>\n",
       "      <td>1000892</td>\n",
       "      <td>개포로82길</td>\n",
       "      <td>38473617</td>\n",
       "      <td>토스트</td>\n",
       "      <td>서울 강남구 개포로 512 1층 109호</td>\n",
       "      <td>4.7</td>\n",
       "      <td>239</td>\n",
       "      <td>15.0</td>\n",
       "      <td>127.068842</td>\n",
       "      <td>37.489307</td>\n",
       "      <td>38473617.0</td>\n",
       "      <td>{'평균_별점': '4.5', '사진': 6, '리뷰': '4'}</td>\n",
       "      <td>5.0</td>\n",
       "      <td>2021.10.02</td>\n",
       "      <td>3번째 방문</td>\n",
       "      <td>주문</td>\n",
       "      <td>맛있고 친절해요!!</td>\n",
       "      <td>감사합니다 ^^**********</td>\n",
       "    </tr>\n",
       "    <tr>\n",
       "      <th>2</th>\n",
       "      <td>이삭토스트 개포동역점</td>\n",
       "      <td>1000892</td>\n",
       "      <td>개포로82길</td>\n",
       "      <td>38473617</td>\n",
       "      <td>토스트</td>\n",
       "      <td>서울 강남구 개포로 512 1층 109호</td>\n",
       "      <td>4.7</td>\n",
       "      <td>239</td>\n",
       "      <td>15.0</td>\n",
       "      <td>127.068842</td>\n",
       "      <td>37.489307</td>\n",
       "      <td>38473617.0</td>\n",
       "      <td>{'평균_별점': '4', '사진': 'NA', '리뷰': '369'}</td>\n",
       "      <td>4.0</td>\n",
       "      <td>2021.09.27</td>\n",
       "      <td>1번째 방문</td>\n",
       "      <td>영수증</td>\n",
       "      <td>굿</td>\n",
       "      <td>감사합니다 ^^</td>\n",
       "    </tr>\n",
       "    <tr>\n",
       "      <th>3</th>\n",
       "      <td>이삭토스트 개포동역점</td>\n",
       "      <td>1000892</td>\n",
       "      <td>개포로82길</td>\n",
       "      <td>38473617</td>\n",
       "      <td>토스트</td>\n",
       "      <td>서울 강남구 개포로 512 1층 109호</td>\n",
       "      <td>4.7</td>\n",
       "      <td>239</td>\n",
       "      <td>15.0</td>\n",
       "      <td>127.068842</td>\n",
       "      <td>37.489307</td>\n",
       "      <td>38473617.0</td>\n",
       "      <td>{'평균_별점': '4.1', '사진': 'NA', '리뷰': '490'}</td>\n",
       "      <td>3.5</td>\n",
       "      <td>2021.09.27</td>\n",
       "      <td>1번째 방문</td>\n",
       "      <td>영수증</td>\n",
       "      <td>굿</td>\n",
       "      <td>감사합니다 ^^</td>\n",
       "    </tr>\n",
       "    <tr>\n",
       "      <th>4</th>\n",
       "      <td>이삭토스트 개포동역점</td>\n",
       "      <td>1000892</td>\n",
       "      <td>개포로82길</td>\n",
       "      <td>38473617</td>\n",
       "      <td>토스트</td>\n",
       "      <td>서울 강남구 개포로 512 1층 109호</td>\n",
       "      <td>4.7</td>\n",
       "      <td>239</td>\n",
       "      <td>15.0</td>\n",
       "      <td>127.068842</td>\n",
       "      <td>37.489307</td>\n",
       "      <td>38473617.0</td>\n",
       "      <td>{'평균_별점': '4.6', '사진': 'NA', '리뷰': '64'}</td>\n",
       "      <td>5.0</td>\n",
       "      <td>2021.09.23</td>\n",
       "      <td>1번째 방문</td>\n",
       "      <td>영수증</td>\n",
       "      <td>사장님 친절하세용ㅎㅎ</td>\n",
       "      <td>감사합니다 ^^</td>\n",
       "    </tr>\n",
       "  </tbody>\n",
       "</table>\n",
       "</div>"
      ],
      "text/plain": [
       "          name TRDAR_CD TRDAR_CD_N   code_ne r_type                 address  \\\n",
       "0  이삭토스트 개포동역점  1000892     개포로82길  38473617    토스트  서울 강남구 개포로 512 1층 109호   \n",
       "1  이삭토스트 개포동역점  1000892     개포로82길  38473617    토스트  서울 강남구 개포로 512 1층 109호   \n",
       "2  이삭토스트 개포동역점  1000892     개포로82길  38473617    토스트  서울 강남구 개포로 512 1층 109호   \n",
       "3  이삭토스트 개포동역점  1000892     개포로82길  38473617    토스트  서울 강남구 개포로 512 1층 109호   \n",
       "4  이삭토스트 개포동역점  1000892     개포로82길  38473617    토스트  서울 강남구 개포로 512 1층 109호   \n",
       "\n",
       "  score review_num blog_num           x          y     code_no  \\\n",
       "0   4.7        239     15.0  127.068842  37.489307  38473617.0   \n",
       "1   4.7        239     15.0  127.068842  37.489307  38473617.0   \n",
       "2   4.7        239     15.0  127.068842  37.489307  38473617.0   \n",
       "3   4.7        239     15.0  127.068842  37.489307  38473617.0   \n",
       "4   4.7        239     15.0  127.068842  37.489307  38473617.0   \n",
       "\n",
       "                               reviewer_info  r_score      r_date r_times  \\\n",
       "0      {'평균_별점': '5', '사진': 'NA', '리뷰': '1'}      5.0  2021.10.04  2번째 방문   \n",
       "1       {'평균_별점': '4.5', '사진': 6, '리뷰': '4'}      5.0  2021.10.02  3번째 방문   \n",
       "2    {'평균_별점': '4', '사진': 'NA', '리뷰': '369'}      4.0  2021.09.27  1번째 방문   \n",
       "3  {'평균_별점': '4.1', '사진': 'NA', '리뷰': '490'}      3.5  2021.09.27  1번째 방문   \n",
       "4   {'평균_별점': '4.6', '사진': 'NA', '리뷰': '64'}      5.0  2021.09.23  1번째 방문   \n",
       "\n",
       "  proving                 r_comments         owner_reply  \n",
       "0      주문  맛있어요! ㅋㅋ사장님 두분도 친절하세요! 최고                 NaN  \n",
       "1      주문                 맛있고 친절해요!!  감사합니다 ^^**********  \n",
       "2     영수증                          굿            감사합니다 ^^  \n",
       "3     영수증                          굿            감사합니다 ^^  \n",
       "4     영수증                사장님 친절하세용ㅎㅎ            감사합니다 ^^  "
      ]
     },
     "execution_count": 39,
     "metadata": {},
     "output_type": "execute_result"
    }
   ],
   "source": [
    "# store_review_by_bs(상권별 상점 데이터) 와 리뷰데이터 병합\n",
    "review_by_bs_area = pd.merge(store_review_by_bs, review_data, on='name', how='left')\n",
    "review_by_bs_area.head(5)"
   ]
  },
  {
   "cell_type": "code",
   "execution_count": 40,
   "metadata": {
    "ExecuteTime": {
     "end_time": "2021-10-19T21:41:20.096848Z",
     "start_time": "2021-10-19T21:41:20.083883Z"
    }
   },
   "outputs": [],
   "source": [
    "# review_by_bs_area.to_csv('상권별_리뷰.csv', encoding='utf-8', index=False)"
   ]
  },
  {
   "cell_type": "markdown",
   "metadata": {},
   "source": [
    "# 상권별 비율 지표 뽑아내기"
   ]
  },
  {
   "cell_type": "markdown",
   "metadata": {},
   "source": [
    "## 상권별 review 비율"
   ]
  },
  {
   "cell_type": "code",
   "execution_count": 41,
   "metadata": {
    "ExecuteTime": {
     "end_time": "2021-10-19T21:41:20.630080Z",
     "start_time": "2021-10-19T21:41:20.098843Z"
    }
   },
   "outputs": [],
   "source": [
    "# review 없는 row 삭제\n",
    "review_by_bs_area = review_by_bs_area[review_by_bs_area['r_comments'].notna()]"
   ]
  },
  {
   "cell_type": "code",
   "execution_count": 42,
   "metadata": {
    "ExecuteTime": {
     "end_time": "2021-10-19T21:41:21.306287Z",
     "start_time": "2021-10-19T21:41:20.635067Z"
    }
   },
   "outputs": [
    {
     "data": {
      "text/plain": [
       "name                   0\n",
       "TRDAR_CD               0\n",
       "TRDAR_CD_N             0\n",
       "code_ne                0\n",
       "r_type                 0\n",
       "address                0\n",
       "score                  0\n",
       "review_num            85\n",
       "blog_num            5334\n",
       "x                      0\n",
       "y                      0\n",
       "code_no                0\n",
       "reviewer_info          0\n",
       "r_score                0\n",
       "r_date                 0\n",
       "r_times                0\n",
       "proving              187\n",
       "r_comments             0\n",
       "owner_reply      1016091\n",
       "dtype: int64"
      ]
     },
     "execution_count": 42,
     "metadata": {},
     "output_type": "execute_result"
    }
   ],
   "source": [
    "review_by_bs_area.isnull().sum()"
   ]
  },
  {
   "cell_type": "code",
   "execution_count": 43,
   "metadata": {
    "ExecuteTime": {
     "end_time": "2021-10-19T21:41:21.470877Z",
     "start_time": "2021-10-19T21:41:21.309280Z"
    }
   },
   "outputs": [],
   "source": [
    "# 상권별 review 수\n",
    "review_cnt_by_bs_area = review_by_bs_area.groupby(['TRDAR_CD'])['r_comments'].count()\n",
    "df = review_cnt_by_bs_area.to_frame()"
   ]
  },
  {
   "cell_type": "code",
   "execution_count": 44,
   "metadata": {
    "ExecuteTime": {
     "end_time": "2021-10-19T21:41:21.486805Z",
     "start_time": "2021-10-19T21:41:21.472842Z"
    }
   },
   "outputs": [
    {
     "data": {
      "text/html": [
       "<div>\n",
       "<style scoped>\n",
       "    .dataframe tbody tr th:only-of-type {\n",
       "        vertical-align: middle;\n",
       "    }\n",
       "\n",
       "    .dataframe tbody tr th {\n",
       "        vertical-align: top;\n",
       "    }\n",
       "\n",
       "    .dataframe thead th {\n",
       "        text-align: right;\n",
       "    }\n",
       "</style>\n",
       "<table border=\"1\" class=\"dataframe\">\n",
       "  <thead>\n",
       "    <tr style=\"text-align: right;\">\n",
       "      <th></th>\n",
       "      <th>TRDAR_CD</th>\n",
       "      <th>review_cnt</th>\n",
       "    </tr>\n",
       "  </thead>\n",
       "  <tbody>\n",
       "    <tr>\n",
       "      <th>0</th>\n",
       "      <td>1000001</td>\n",
       "      <td>1392</td>\n",
       "    </tr>\n",
       "    <tr>\n",
       "      <th>1</th>\n",
       "      <td>1000002</td>\n",
       "      <td>424</td>\n",
       "    </tr>\n",
       "    <tr>\n",
       "      <th>2</th>\n",
       "      <td>1000003</td>\n",
       "      <td>6280</td>\n",
       "    </tr>\n",
       "    <tr>\n",
       "      <th>3</th>\n",
       "      <td>1000004</td>\n",
       "      <td>1951</td>\n",
       "    </tr>\n",
       "    <tr>\n",
       "      <th>4</th>\n",
       "      <td>1000005</td>\n",
       "      <td>5527</td>\n",
       "    </tr>\n",
       "    <tr>\n",
       "      <th>...</th>\n",
       "      <td>...</td>\n",
       "      <td>...</td>\n",
       "    </tr>\n",
       "    <tr>\n",
       "      <th>870</th>\n",
       "      <td>1001006</td>\n",
       "      <td>1859</td>\n",
       "    </tr>\n",
       "    <tr>\n",
       "      <th>871</th>\n",
       "      <td>1001007</td>\n",
       "      <td>1182</td>\n",
       "    </tr>\n",
       "    <tr>\n",
       "      <th>872</th>\n",
       "      <td>1001008</td>\n",
       "      <td>2235</td>\n",
       "    </tr>\n",
       "    <tr>\n",
       "      <th>873</th>\n",
       "      <td>1001009</td>\n",
       "      <td>265</td>\n",
       "    </tr>\n",
       "    <tr>\n",
       "      <th>874</th>\n",
       "      <td>1001010</td>\n",
       "      <td>63</td>\n",
       "    </tr>\n",
       "  </tbody>\n",
       "</table>\n",
       "<p>875 rows × 2 columns</p>\n",
       "</div>"
      ],
      "text/plain": [
       "    TRDAR_CD  review_cnt\n",
       "0    1000001        1392\n",
       "1    1000002         424\n",
       "2    1000003        6280\n",
       "3    1000004        1951\n",
       "4    1000005        5527\n",
       "..       ...         ...\n",
       "870  1001006        1859\n",
       "871  1001007        1182\n",
       "872  1001008        2235\n",
       "873  1001009         265\n",
       "874  1001010          63\n",
       "\n",
       "[875 rows x 2 columns]"
      ]
     },
     "execution_count": 44,
     "metadata": {},
     "output_type": "execute_result"
    }
   ],
   "source": [
    "df.reset_index(inplace=True)\n",
    "df.rename(columns = {'r_comments' : 'review_cnt'}, inplace = True)\n",
    "df"
   ]
  },
  {
   "cell_type": "code",
   "execution_count": 45,
   "metadata": {
    "ExecuteTime": {
     "end_time": "2021-10-19T21:41:21.532710Z",
     "start_time": "2021-10-19T21:41:21.488800Z"
    }
   },
   "outputs": [
    {
     "data": {
      "text/html": [
       "<div>\n",
       "<style scoped>\n",
       "    .dataframe tbody tr th:only-of-type {\n",
       "        vertical-align: middle;\n",
       "    }\n",
       "\n",
       "    .dataframe tbody tr th {\n",
       "        vertical-align: top;\n",
       "    }\n",
       "\n",
       "    .dataframe thead th {\n",
       "        text-align: right;\n",
       "    }\n",
       "</style>\n",
       "<table border=\"1\" class=\"dataframe\">\n",
       "  <thead>\n",
       "    <tr style=\"text-align: right;\">\n",
       "      <th></th>\n",
       "      <th>TRDAR_CD</th>\n",
       "      <th>review_cnt</th>\n",
       "      <th>review_ratio</th>\n",
       "    </tr>\n",
       "  </thead>\n",
       "  <tbody>\n",
       "    <tr>\n",
       "      <th>0</th>\n",
       "      <td>1000001</td>\n",
       "      <td>1392</td>\n",
       "      <td>0.001259</td>\n",
       "    </tr>\n",
       "    <tr>\n",
       "      <th>1</th>\n",
       "      <td>1000002</td>\n",
       "      <td>424</td>\n",
       "      <td>0.000383</td>\n",
       "    </tr>\n",
       "    <tr>\n",
       "      <th>2</th>\n",
       "      <td>1000003</td>\n",
       "      <td>6280</td>\n",
       "      <td>0.005680</td>\n",
       "    </tr>\n",
       "    <tr>\n",
       "      <th>3</th>\n",
       "      <td>1000004</td>\n",
       "      <td>1951</td>\n",
       "      <td>0.001765</td>\n",
       "    </tr>\n",
       "    <tr>\n",
       "      <th>4</th>\n",
       "      <td>1000005</td>\n",
       "      <td>5527</td>\n",
       "      <td>0.004999</td>\n",
       "    </tr>\n",
       "  </tbody>\n",
       "</table>\n",
       "</div>"
      ],
      "text/plain": [
       "  TRDAR_CD  review_cnt  review_ratio\n",
       "0  1000001        1392      0.001259\n",
       "1  1000002         424      0.000383\n",
       "2  1000003        6280      0.005680\n",
       "3  1000004        1951      0.001765\n",
       "4  1000005        5527      0.004999"
      ]
     },
     "execution_count": 45,
     "metadata": {},
     "output_type": "execute_result"
    }
   ],
   "source": [
    "# 상권별 review 비율\n",
    "total_review_cnt = df['review_cnt'].sum()\n",
    "df['review_ratio'] = df['review_cnt']/total_review_cnt\n",
    "df.head()"
   ]
  },
  {
   "cell_type": "markdown",
   "metadata": {},
   "source": [
    "## 상권별 평균 평점"
   ]
  },
  {
   "cell_type": "code",
   "execution_count": 46,
   "metadata": {
    "ExecuteTime": {
     "end_time": "2021-10-19T21:41:21.687773Z",
     "start_time": "2021-10-19T21:41:21.533679Z"
    }
   },
   "outputs": [],
   "source": [
    "review_by_bs_area['score'].replace('1,099',1099,inplace=True)\n",
    "review_by_bs_area['score'] = review_by_bs_area['r_score'].astype('float')"
   ]
  },
  {
   "cell_type": "code",
   "execution_count": 47,
   "metadata": {
    "ExecuteTime": {
     "end_time": "2021-10-19T21:41:21.793491Z",
     "start_time": "2021-10-19T21:41:21.689769Z"
    }
   },
   "outputs": [],
   "source": [
    "# 상권별 평균평점\n",
    "avg_score = review_by_bs_area.groupby(['TRDAR_CD'])['r_score'].mean()\n",
    "df_score = avg_score.to_frame()"
   ]
  },
  {
   "cell_type": "code",
   "execution_count": 48,
   "metadata": {
    "ExecuteTime": {
     "end_time": "2021-10-19T21:41:21.809448Z",
     "start_time": "2021-10-19T21:41:21.795486Z"
    }
   },
   "outputs": [
    {
     "data": {
      "text/html": [
       "<div>\n",
       "<style scoped>\n",
       "    .dataframe tbody tr th:only-of-type {\n",
       "        vertical-align: middle;\n",
       "    }\n",
       "\n",
       "    .dataframe tbody tr th {\n",
       "        vertical-align: top;\n",
       "    }\n",
       "\n",
       "    .dataframe thead th {\n",
       "        text-align: right;\n",
       "    }\n",
       "</style>\n",
       "<table border=\"1\" class=\"dataframe\">\n",
       "  <thead>\n",
       "    <tr style=\"text-align: right;\">\n",
       "      <th></th>\n",
       "      <th>TRDAR_CD</th>\n",
       "      <th>avg_score</th>\n",
       "    </tr>\n",
       "  </thead>\n",
       "  <tbody>\n",
       "    <tr>\n",
       "      <th>0</th>\n",
       "      <td>1000001</td>\n",
       "      <td>4.414511</td>\n",
       "    </tr>\n",
       "    <tr>\n",
       "      <th>1</th>\n",
       "      <td>1000002</td>\n",
       "      <td>4.198113</td>\n",
       "    </tr>\n",
       "    <tr>\n",
       "      <th>2</th>\n",
       "      <td>1000003</td>\n",
       "      <td>4.366481</td>\n",
       "    </tr>\n",
       "    <tr>\n",
       "      <th>3</th>\n",
       "      <td>1000004</td>\n",
       "      <td>4.237314</td>\n",
       "    </tr>\n",
       "    <tr>\n",
       "      <th>4</th>\n",
       "      <td>1000005</td>\n",
       "      <td>4.425547</td>\n",
       "    </tr>\n",
       "    <tr>\n",
       "      <th>...</th>\n",
       "      <td>...</td>\n",
       "      <td>...</td>\n",
       "    </tr>\n",
       "    <tr>\n",
       "      <th>870</th>\n",
       "      <td>1001006</td>\n",
       "      <td>4.344002</td>\n",
       "    </tr>\n",
       "    <tr>\n",
       "      <th>871</th>\n",
       "      <td>1001007</td>\n",
       "      <td>4.368866</td>\n",
       "    </tr>\n",
       "    <tr>\n",
       "      <th>872</th>\n",
       "      <td>1001008</td>\n",
       "      <td>4.479642</td>\n",
       "    </tr>\n",
       "    <tr>\n",
       "      <th>873</th>\n",
       "      <td>1001009</td>\n",
       "      <td>4.633962</td>\n",
       "    </tr>\n",
       "    <tr>\n",
       "      <th>874</th>\n",
       "      <td>1001010</td>\n",
       "      <td>4.626984</td>\n",
       "    </tr>\n",
       "  </tbody>\n",
       "</table>\n",
       "<p>875 rows × 2 columns</p>\n",
       "</div>"
      ],
      "text/plain": [
       "    TRDAR_CD  avg_score\n",
       "0    1000001   4.414511\n",
       "1    1000002   4.198113\n",
       "2    1000003   4.366481\n",
       "3    1000004   4.237314\n",
       "4    1000005   4.425547\n",
       "..       ...        ...\n",
       "870  1001006   4.344002\n",
       "871  1001007   4.368866\n",
       "872  1001008   4.479642\n",
       "873  1001009   4.633962\n",
       "874  1001010   4.626984\n",
       "\n",
       "[875 rows x 2 columns]"
      ]
     },
     "execution_count": 48,
     "metadata": {},
     "output_type": "execute_result"
    }
   ],
   "source": [
    "df_score.reset_index(inplace=True)\n",
    "df_score.rename(columns = {'r_score' : 'avg_score'}, inplace = True)\n",
    "df_score"
   ]
  },
  {
   "cell_type": "code",
   "execution_count": 49,
   "metadata": {
    "ExecuteTime": {
     "end_time": "2021-10-19T21:41:21.825405Z",
     "start_time": "2021-10-19T21:41:21.811444Z"
    }
   },
   "outputs": [],
   "source": [
    "df = pd.merge(df, df_score, on='TRDAR_CD')"
   ]
  },
  {
   "cell_type": "code",
   "execution_count": 50,
   "metadata": {
    "ExecuteTime": {
     "end_time": "2021-10-19T21:41:21.841362Z",
     "start_time": "2021-10-19T21:41:21.827400Z"
    }
   },
   "outputs": [
    {
     "data": {
      "text/html": [
       "<div>\n",
       "<style scoped>\n",
       "    .dataframe tbody tr th:only-of-type {\n",
       "        vertical-align: middle;\n",
       "    }\n",
       "\n",
       "    .dataframe tbody tr th {\n",
       "        vertical-align: top;\n",
       "    }\n",
       "\n",
       "    .dataframe thead th {\n",
       "        text-align: right;\n",
       "    }\n",
       "</style>\n",
       "<table border=\"1\" class=\"dataframe\">\n",
       "  <thead>\n",
       "    <tr style=\"text-align: right;\">\n",
       "      <th></th>\n",
       "      <th>TRDAR_CD</th>\n",
       "      <th>review_cnt</th>\n",
       "      <th>review_ratio</th>\n",
       "      <th>avg_score</th>\n",
       "    </tr>\n",
       "  </thead>\n",
       "  <tbody>\n",
       "    <tr>\n",
       "      <th>0</th>\n",
       "      <td>1000001</td>\n",
       "      <td>1392</td>\n",
       "      <td>0.001259</td>\n",
       "      <td>4.414511</td>\n",
       "    </tr>\n",
       "  </tbody>\n",
       "</table>\n",
       "</div>"
      ],
      "text/plain": [
       "  TRDAR_CD  review_cnt  review_ratio  avg_score\n",
       "0  1000001        1392      0.001259   4.414511"
      ]
     },
     "execution_count": 50,
     "metadata": {},
     "output_type": "execute_result"
    }
   ],
   "source": [
    "df.head(1)"
   ]
  },
  {
   "cell_type": "markdown",
   "metadata": {},
   "source": [
    "# owner 응답률"
   ]
  },
  {
   "cell_type": "code",
   "execution_count": 51,
   "metadata": {
    "ExecuteTime": {
     "end_time": "2021-10-19T21:41:22.370688Z",
     "start_time": "2021-10-19T21:41:21.843358Z"
    }
   },
   "outputs": [],
   "source": [
    "review_by_bs_area['owner_reply'].fillna('활활활활', inplace=True)\n",
    "\n",
    "def change_1(x):\n",
    "    if x == '활활활활':\n",
    "        return 0\n",
    "    else:\n",
    "        return 1\n",
    "\n",
    "review_by_bs_area['tmp'] = review_by_bs_area['owner_reply'].apply(change_1)\n",
    "상권당_평균리플 = review_by_bs_area.groupby(['TRDAR_CD'])['tmp'].mean().to_frame()"
   ]
  },
  {
   "cell_type": "code",
   "execution_count": 52,
   "metadata": {
    "ExecuteTime": {
     "end_time": "2021-10-19T21:41:22.385648Z",
     "start_time": "2021-10-19T21:41:22.372683Z"
    }
   },
   "outputs": [
    {
     "data": {
      "text/html": [
       "<div>\n",
       "<style scoped>\n",
       "    .dataframe tbody tr th:only-of-type {\n",
       "        vertical-align: middle;\n",
       "    }\n",
       "\n",
       "    .dataframe tbody tr th {\n",
       "        vertical-align: top;\n",
       "    }\n",
       "\n",
       "    .dataframe thead th {\n",
       "        text-align: right;\n",
       "    }\n",
       "</style>\n",
       "<table border=\"1\" class=\"dataframe\">\n",
       "  <thead>\n",
       "    <tr style=\"text-align: right;\">\n",
       "      <th></th>\n",
       "      <th>TRDAR_CD</th>\n",
       "      <th>review_cnt</th>\n",
       "      <th>review_ratio</th>\n",
       "      <th>avg_score</th>\n",
       "      <th>tmp</th>\n",
       "    </tr>\n",
       "  </thead>\n",
       "  <tbody>\n",
       "    <tr>\n",
       "      <th>0</th>\n",
       "      <td>1000001</td>\n",
       "      <td>1392</td>\n",
       "      <td>0.001259</td>\n",
       "      <td>4.414511</td>\n",
       "      <td>0.081178</td>\n",
       "    </tr>\n",
       "  </tbody>\n",
       "</table>\n",
       "</div>"
      ],
      "text/plain": [
       "  TRDAR_CD  review_cnt  review_ratio  avg_score       tmp\n",
       "0  1000001        1392      0.001259   4.414511  0.081178"
      ]
     },
     "execution_count": 52,
     "metadata": {},
     "output_type": "execute_result"
    }
   ],
   "source": [
    "df = pd.merge(df, 상권당_평균리플, left_on='TRDAR_CD', right_index=True)\n",
    "df.head(1)"
   ]
  },
  {
   "cell_type": "markdown",
   "metadata": {
    "ExecuteTime": {
     "end_time": "2021-10-19T19:49:07.018876Z",
     "start_time": "2021-10-19T19:49:07.005911Z"
    }
   },
   "source": [
    "각 상권당 맛에 대해서 표현한 리뷰(맛있다)의 비율"
   ]
  },
  {
   "cell_type": "code",
   "execution_count": 53,
   "metadata": {
    "ExecuteTime": {
     "end_time": "2021-10-19T21:41:22.400633Z",
     "start_time": "2021-10-19T21:41:22.387642Z"
    }
   },
   "outputs": [],
   "source": [
    "def change_2(x, key):\n",
    "    for val in keyword_dict[key]:\n",
    "        if val in x:\n",
    "            return 1\n",
    "    else:\n",
    "        return 0"
   ]
  },
  {
   "cell_type": "code",
   "execution_count": 54,
   "metadata": {
    "ExecuteTime": {
     "end_time": "2021-10-19T21:51:57.347016Z",
     "start_time": "2021-10-19T21:42:05.052542Z"
    }
   },
   "outputs": [
    {
     "data": {
      "application/vnd.jupyter.widget-view+json": {
       "model_id": "b6c73669f97c432eab58e163aa03cf54",
       "version_major": 2,
       "version_minor": 0
      },
      "text/plain": [
       "  0%|          | 0/5 [00:00<?, ?it/s]"
      ]
     },
     "metadata": {},
     "output_type": "display_data"
    }
   ],
   "source": [
    "from tqdm import tqdm_notebook\n",
    "\n",
    "sorts = ['taste','kindness','mood', 'pos_price', 'neg_price']\n",
    "for i in tqdm_notebook(sorts):\n",
    "    review_by_bs_area['tmp_'+i] = review_by_bs_area['r_comments'].apply(lambda x: change_2(x,i))"
   ]
  },
  {
   "cell_type": "code",
   "execution_count": 55,
   "metadata": {
    "ExecuteTime": {
     "end_time": "2021-10-19T21:51:58.914889Z",
     "start_time": "2021-10-19T21:51:58.437625Z"
    }
   },
   "outputs": [
    {
     "data": {
      "text/html": [
       "<div>\n",
       "<style scoped>\n",
       "    .dataframe tbody tr th:only-of-type {\n",
       "        vertical-align: middle;\n",
       "    }\n",
       "\n",
       "    .dataframe tbody tr th {\n",
       "        vertical-align: top;\n",
       "    }\n",
       "\n",
       "    .dataframe thead th {\n",
       "        text-align: right;\n",
       "    }\n",
       "</style>\n",
       "<table border=\"1\" class=\"dataframe\">\n",
       "  <thead>\n",
       "    <tr style=\"text-align: right;\">\n",
       "      <th></th>\n",
       "      <th>TRDAR_CD</th>\n",
       "      <th>review_cnt</th>\n",
       "      <th>review_ratio</th>\n",
       "      <th>avg_score</th>\n",
       "      <th>tmp</th>\n",
       "      <th>tmp_taste</th>\n",
       "      <th>tmp_kindness</th>\n",
       "      <th>tmp_mood</th>\n",
       "      <th>tmp_pos_price</th>\n",
       "      <th>tmp_neg_price</th>\n",
       "    </tr>\n",
       "  </thead>\n",
       "  <tbody>\n",
       "    <tr>\n",
       "      <th>0</th>\n",
       "      <td>1000001</td>\n",
       "      <td>1392</td>\n",
       "      <td>0.001259</td>\n",
       "      <td>4.414511</td>\n",
       "      <td>0.081178</td>\n",
       "      <td>0.967455</td>\n",
       "      <td>0.972514</td>\n",
       "      <td>1.374311</td>\n",
       "      <td>0.663147</td>\n",
       "      <td>1.016724</td>\n",
       "    </tr>\n",
       "    <tr>\n",
       "      <th>1</th>\n",
       "      <td>1000002</td>\n",
       "      <td>424</td>\n",
       "      <td>0.000383</td>\n",
       "      <td>4.198113</td>\n",
       "      <td>0.002358</td>\n",
       "      <td>0.860697</td>\n",
       "      <td>0.835577</td>\n",
       "      <td>0.581762</td>\n",
       "      <td>0.466527</td>\n",
       "      <td>0.560294</td>\n",
       "    </tr>\n",
       "    <tr>\n",
       "      <th>2</th>\n",
       "      <td>1000003</td>\n",
       "      <td>6280</td>\n",
       "      <td>0.005680</td>\n",
       "      <td>4.366481</td>\n",
       "      <td>0.062102</td>\n",
       "      <td>1.033080</td>\n",
       "      <td>1.171051</td>\n",
       "      <td>1.537087</td>\n",
       "      <td>0.850445</td>\n",
       "      <td>1.154985</td>\n",
       "    </tr>\n",
       "    <tr>\n",
       "      <th>3</th>\n",
       "      <td>1000004</td>\n",
       "      <td>1951</td>\n",
       "      <td>0.001765</td>\n",
       "      <td>4.237314</td>\n",
       "      <td>0.015889</td>\n",
       "      <td>0.951627</td>\n",
       "      <td>0.724453</td>\n",
       "      <td>0.831636</td>\n",
       "      <td>0.824620</td>\n",
       "      <td>0.922310</td>\n",
       "    </tr>\n",
       "    <tr>\n",
       "      <th>4</th>\n",
       "      <td>1000005</td>\n",
       "      <td>5527</td>\n",
       "      <td>0.004999</td>\n",
       "      <td>4.425547</td>\n",
       "      <td>0.065497</td>\n",
       "      <td>0.995085</td>\n",
       "      <td>1.032358</td>\n",
       "      <td>1.506493</td>\n",
       "      <td>0.856557</td>\n",
       "      <td>1.066334</td>\n",
       "    </tr>\n",
       "    <tr>\n",
       "      <th>...</th>\n",
       "      <td>...</td>\n",
       "      <td>...</td>\n",
       "      <td>...</td>\n",
       "      <td>...</td>\n",
       "      <td>...</td>\n",
       "      <td>...</td>\n",
       "      <td>...</td>\n",
       "      <td>...</td>\n",
       "      <td>...</td>\n",
       "      <td>...</td>\n",
       "    </tr>\n",
       "    <tr>\n",
       "      <th>870</th>\n",
       "      <td>1001006</td>\n",
       "      <td>1859</td>\n",
       "      <td>0.001681</td>\n",
       "      <td>4.344002</td>\n",
       "      <td>0.001614</td>\n",
       "      <td>0.956420</td>\n",
       "      <td>0.750275</td>\n",
       "      <td>1.014326</td>\n",
       "      <td>0.461089</td>\n",
       "      <td>0.815692</td>\n",
       "    </tr>\n",
       "    <tr>\n",
       "      <th>871</th>\n",
       "      <td>1001007</td>\n",
       "      <td>1182</td>\n",
       "      <td>0.001069</td>\n",
       "      <td>4.368866</td>\n",
       "      <td>0.018613</td>\n",
       "      <td>0.970932</td>\n",
       "      <td>0.965456</td>\n",
       "      <td>1.150093</td>\n",
       "      <td>0.970628</td>\n",
       "      <td>0.949335</td>\n",
       "    </tr>\n",
       "    <tr>\n",
       "      <th>872</th>\n",
       "      <td>1001008</td>\n",
       "      <td>2235</td>\n",
       "      <td>0.002021</td>\n",
       "      <td>4.479642</td>\n",
       "      <td>0.063982</td>\n",
       "      <td>0.989588</td>\n",
       "      <td>0.830960</td>\n",
       "      <td>0.662194</td>\n",
       "      <td>0.938147</td>\n",
       "      <td>0.839036</td>\n",
       "    </tr>\n",
       "    <tr>\n",
       "      <th>873</th>\n",
       "      <td>1001009</td>\n",
       "      <td>265</td>\n",
       "      <td>0.000240</td>\n",
       "      <td>4.633962</td>\n",
       "      <td>0.000000</td>\n",
       "      <td>1.052542</td>\n",
       "      <td>0.605133</td>\n",
       "      <td>0.537807</td>\n",
       "      <td>0.646917</td>\n",
       "      <td>1.106283</td>\n",
       "    </tr>\n",
       "    <tr>\n",
       "      <th>874</th>\n",
       "      <td>1001010</td>\n",
       "      <td>63</td>\n",
       "      <td>0.000057</td>\n",
       "      <td>4.626984</td>\n",
       "      <td>0.015873</td>\n",
       "      <td>0.994693</td>\n",
       "      <td>0.828736</td>\n",
       "      <td>2.088187</td>\n",
       "      <td>0.837280</td>\n",
       "      <td>1.203469</td>\n",
       "    </tr>\n",
       "  </tbody>\n",
       "</table>\n",
       "<p>875 rows × 10 columns</p>\n",
       "</div>"
      ],
      "text/plain": [
       "    TRDAR_CD  review_cnt  review_ratio  avg_score       tmp  tmp_taste  \\\n",
       "0    1000001        1392      0.001259   4.414511  0.081178   0.967455   \n",
       "1    1000002         424      0.000383   4.198113  0.002358   0.860697   \n",
       "2    1000003        6280      0.005680   4.366481  0.062102   1.033080   \n",
       "3    1000004        1951      0.001765   4.237314  0.015889   0.951627   \n",
       "4    1000005        5527      0.004999   4.425547  0.065497   0.995085   \n",
       "..       ...         ...           ...        ...       ...        ...   \n",
       "870  1001006        1859      0.001681   4.344002  0.001614   0.956420   \n",
       "871  1001007        1182      0.001069   4.368866  0.018613   0.970932   \n",
       "872  1001008        2235      0.002021   4.479642  0.063982   0.989588   \n",
       "873  1001009         265      0.000240   4.633962  0.000000   1.052542   \n",
       "874  1001010          63      0.000057   4.626984  0.015873   0.994693   \n",
       "\n",
       "     tmp_kindness  tmp_mood  tmp_pos_price  tmp_neg_price  \n",
       "0        0.972514  1.374311       0.663147       1.016724  \n",
       "1        0.835577  0.581762       0.466527       0.560294  \n",
       "2        1.171051  1.537087       0.850445       1.154985  \n",
       "3        0.724453  0.831636       0.824620       0.922310  \n",
       "4        1.032358  1.506493       0.856557       1.066334  \n",
       "..            ...       ...            ...            ...  \n",
       "870      0.750275  1.014326       0.461089       0.815692  \n",
       "871      0.965456  1.150093       0.970628       0.949335  \n",
       "872      0.830960  0.662194       0.938147       0.839036  \n",
       "873      0.605133  0.537807       0.646917       1.106283  \n",
       "874      0.828736  2.088187       0.837280       1.203469  \n",
       "\n",
       "[875 rows x 10 columns]"
      ]
     },
     "execution_count": 55,
     "metadata": {},
     "output_type": "execute_result"
    }
   ],
   "source": [
    "df2 = df.copy()\n",
    "for i in review_by_bs_area.columns[-5:]:\n",
    "    상권당_평균리플 = (review_by_bs_area.groupby(['TRDAR_CD'])[i].mean()/review_by_bs_area[i].mean()).to_frame()\n",
    "    df2 = pd.merge(df2, 상권당_평균리플, left_on='TRDAR_CD', right_index=True)\n",
    "df2"
   ]
  },
  {
   "cell_type": "code",
   "execution_count": 56,
   "metadata": {
    "ExecuteTime": {
     "end_time": "2021-10-19T21:52:00.030411Z",
     "start_time": "2021-10-19T21:52:00.002487Z"
    }
   },
   "outputs": [
    {
     "data": {
      "text/html": [
       "<div>\n",
       "<style scoped>\n",
       "    .dataframe tbody tr th:only-of-type {\n",
       "        vertical-align: middle;\n",
       "    }\n",
       "\n",
       "    .dataframe tbody tr th {\n",
       "        vertical-align: top;\n",
       "    }\n",
       "\n",
       "    .dataframe thead th {\n",
       "        text-align: right;\n",
       "    }\n",
       "</style>\n",
       "<table border=\"1\" class=\"dataframe\">\n",
       "  <thead>\n",
       "    <tr style=\"text-align: right;\">\n",
       "      <th></th>\n",
       "      <th>상권_코드</th>\n",
       "      <th>리뷰_수</th>\n",
       "      <th>리뷰_비율</th>\n",
       "      <th>평균_별점</th>\n",
       "      <th>사장님_댓글_비율</th>\n",
       "      <th>맛있다_비율</th>\n",
       "      <th>친절_비율</th>\n",
       "      <th>분위기_비율</th>\n",
       "      <th>싸다_비율</th>\n",
       "      <th>비싸다_비율</th>\n",
       "    </tr>\n",
       "  </thead>\n",
       "  <tbody>\n",
       "    <tr>\n",
       "      <th>0</th>\n",
       "      <td>1000001</td>\n",
       "      <td>1392</td>\n",
       "      <td>0.001259</td>\n",
       "      <td>4.414511</td>\n",
       "      <td>0.081178</td>\n",
       "      <td>0.967455</td>\n",
       "      <td>0.972514</td>\n",
       "      <td>1.374311</td>\n",
       "      <td>0.663147</td>\n",
       "      <td>1.016724</td>\n",
       "    </tr>\n",
       "  </tbody>\n",
       "</table>\n",
       "</div>"
      ],
      "text/plain": [
       "     상권_코드  리뷰_수     리뷰_비율     평균_별점  사장님_댓글_비율    맛있다_비율     친절_비율    분위기_비율  \\\n",
       "0  1000001  1392  0.001259  4.414511   0.081178  0.967455  0.972514  1.374311   \n",
       "\n",
       "      싸다_비율    비싸다_비율  \n",
       "0  0.663147  1.016724  "
      ]
     },
     "execution_count": 56,
     "metadata": {},
     "output_type": "execute_result"
    }
   ],
   "source": [
    "df2.columns=['상권_코드', '리뷰_수', '리뷰_비율', '평균_별점', '사장님_댓글_비율',\n",
    "             '맛있다_비율','친절_비율', '분위기_비율','싸다_비율','비싸다_비율']\n",
    "df2.head(1)"
   ]
  },
  {
   "cell_type": "code",
   "execution_count": 57,
   "metadata": {
    "ExecuteTime": {
     "end_time": "2021-10-19T21:52:01.164944Z",
     "start_time": "2021-10-19T21:52:01.137020Z"
    }
   },
   "outputs": [],
   "source": [
    "df2.to_csv('상권_문화_지표.csv')"
   ]
  }
 ],
 "metadata": {
  "kernelspec": {
   "display_name": "Python 3 (ipykernel)",
   "language": "python",
   "name": "python3"
  },
  "language_info": {
   "codemirror_mode": {
    "name": "ipython",
    "version": 3
   },
   "file_extension": ".py",
   "mimetype": "text/x-python",
   "name": "python",
   "nbconvert_exporter": "python",
   "pygments_lexer": "ipython3",
   "version": "3.8.11"
  },
  "toc": {
   "base_numbering": 1,
   "nav_menu": {},
   "number_sections": true,
   "sideBar": true,
   "skip_h1_title": false,
   "title_cell": "Table of Contents",
   "title_sidebar": "Contents",
   "toc_cell": false,
   "toc_position": {
    "height": "calc(100% - 180px)",
    "left": "10px",
    "top": "150px",
    "width": "383.594px"
   },
   "toc_section_display": true,
   "toc_window_display": true
  },
  "varInspector": {
   "cols": {
    "lenName": 16,
    "lenType": 16,
    "lenVar": 40
   },
   "kernels_config": {
    "python": {
     "delete_cmd_postfix": "",
     "delete_cmd_prefix": "del ",
     "library": "var_list.py",
     "varRefreshCmd": "print(var_dic_list())"
    },
    "r": {
     "delete_cmd_postfix": ") ",
     "delete_cmd_prefix": "rm(",
     "library": "var_list.r",
     "varRefreshCmd": "cat(var_dic_list()) "
    }
   },
   "position": {
    "height": "602.844px",
    "left": "1548px",
    "right": "20px",
    "top": "120px",
    "width": "350px"
   },
   "types_to_exclude": [
    "module",
    "function",
    "builtin_function_or_method",
    "instance",
    "_Feature"
   ],
   "window_display": false
  }
 },
 "nbformat": 4,
 "nbformat_minor": 4
}
