{
 "cells": [
  {
   "cell_type": "code",
   "execution_count": 1,
   "id": "ef2d9cac",
   "metadata": {},
   "outputs": [
    {
     "ename": "NameError",
     "evalue": "name 'pd' is not defined",
     "output_type": "error",
     "traceback": [
      "\u001b[1;31m---------------------------------------------------------------------------\u001b[0m",
      "\u001b[1;31mNameError\u001b[0m                                 Traceback (most recent call last)",
      "\u001b[1;32m<ipython-input-1-c93012a66572>\u001b[0m in \u001b[0;36m<module>\u001b[1;34m\u001b[0m\n\u001b[0;32m      4\u001b[0m \u001b[0mX\u001b[0m \u001b[1;33m=\u001b[0m \u001b[0mdf\u001b[0m\u001b[1;33m.\u001b[0m\u001b[0mdata\u001b[0m\u001b[1;33m\u001b[0m\u001b[1;33m\u001b[0m\u001b[0m\n\u001b[0;32m      5\u001b[0m \u001b[0my\u001b[0m \u001b[1;33m=\u001b[0m \u001b[0mdf\u001b[0m\u001b[1;33m.\u001b[0m\u001b[0mtarget\u001b[0m\u001b[1;33m\u001b[0m\u001b[1;33m\u001b[0m\u001b[0m\n\u001b[1;32m----> 6\u001b[1;33m \u001b[0mX\u001b[0m \u001b[1;33m=\u001b[0m \u001b[0mpd\u001b[0m\u001b[1;33m.\u001b[0m\u001b[0mDataFrame\u001b[0m\u001b[1;33m(\u001b[0m\u001b[0mX\u001b[0m\u001b[1;33m,\u001b[0m \u001b[0mcolumns\u001b[0m\u001b[1;33m=\u001b[0m\u001b[0mdf\u001b[0m\u001b[1;33m.\u001b[0m\u001b[0mfeature_names\u001b[0m\u001b[1;33m)\u001b[0m\u001b[1;33m\u001b[0m\u001b[1;33m\u001b[0m\u001b[0m\n\u001b[0m\u001b[0;32m      7\u001b[0m \u001b[0mX\u001b[0m\u001b[1;33m[\u001b[0m\u001b[1;34m'const'\u001b[0m\u001b[1;33m]\u001b[0m \u001b[1;33m=\u001b[0m \u001b[1;36m1\u001b[0m\u001b[1;33m\u001b[0m\u001b[1;33m\u001b[0m\u001b[0m\n\u001b[0;32m      8\u001b[0m \u001b[0mX\u001b[0m\u001b[1;33m\u001b[0m\u001b[1;33m\u001b[0m\u001b[0m\n",
      "\u001b[1;31mNameError\u001b[0m: name 'pd' is not defined"
     ]
    }
   ],
   "source": [
    "from sklearn.datasets import load_diabetes\n",
    "\n",
    "df = load_diabetes()\n",
    "X = df.data\n",
    "y = df.target\n",
    "X = pd.DataFrame(X, columns=df.feature_names)\n",
    "X['const'] = 1\n",
    "X"
   ]
  },
  {
   "cell_type": "markdown",
   "id": "d94628a7",
   "metadata": {},
   "source": [
    "# 기본 함수 및 라이브러리 로드"
   ]
  },
  {
   "cell_type": "code",
   "execution_count": null,
   "id": "a7287df1",
   "metadata": {},
   "outputs": [],
   "source": [
    "# 경고 제어\n",
    "import warnings\n",
    "warnings.filterwarnings('ignore')\n",
    "\n",
    "# 기본 전처리\n",
    "import numpy as np\n",
    "import geopandas as gpd\n",
    "import pandas as pd\n",
    "pd.set_option('display.max_columns', 150)\n",
    "pd.set_option('display.width', 10000)\n",
    "pd.options.display.float_format = '{:.4f}'.format\n",
    "\n",
    "# 시각화\n",
    "import folium\n",
    "import seaborn as sns\n",
    "import matplotlib.pyplot as plt\n",
    "import matplotlib.cm as cm\n",
    "plt.rcParams['figure.figsize'] = (12, 9)\n",
    "from scipy.stats import norm"
   ]
  },
  {
   "cell_type": "markdown",
   "id": "166e8856",
   "metadata": {},
   "source": [
    "## 필요 함수 로드"
   ]
  },
  {
   "cell_type": "code",
   "execution_count": null,
   "id": "7f8a7db6",
   "metadata": {},
   "outputs": [],
   "source": [
    "def get_object_type(df):\n",
    "    \"\"\" \n",
    "    상권코드의 type을 str로 바꿈\n",
    "    상권_이름을 삭제\n",
    "    \"\"\"\n",
    "    \n",
    "    df['상권_코드'] = df['상권_코드'].apply(lambda x: str(x))\n",
    "    try:\n",
    "        df.drop('상권_이름', inplace=True, axis=1)\n",
    "    except:\n",
    "        pass\n",
    "    return df"
   ]
  },
  {
   "cell_type": "code",
   "execution_count": null,
   "id": "c02f210f",
   "metadata": {},
   "outputs": [],
   "source": [
    "from sklearn.preprocessing import StandardScaler, MinMaxScaler\n",
    "### Scaler들의 함수를 정의함 ###\n",
    "def get_Standard(df_x):\n",
    "    s_scaler = StandardScaler()\n",
    "    return s_scaler.fit_transform(np.array(df_x).reshape(-1, 1))\n",
    "\n",
    "def get_MinMaxScaler(df_x):\n",
    "    m_scaler = MinMaxScaler()\n",
    "    return m_scaler.fit_transform(np.array(df_x).reshape(-1, 1))\n",
    "\n",
    "def get_Stan_log1p(df_x):\n",
    "    s_scaler = StandardScaler()\n",
    "    return s_scaler.fit_transform(np.array(df_x.agg(np.log1p)).reshape(-1, 1))\n",
    "\n",
    "def get_log1p(df_x):\n",
    "    return df_x.agg(np.log1p)"
   ]
  },
  {
   "cell_type": "code",
   "execution_count": null,
   "id": "2cecb70e",
   "metadata": {},
   "outputs": [],
   "source": [
    "from scipy import stats\n",
    "import statsmodels.api as sm\n",
    "from sklearn.linear_model import LinearRegression\n",
    "\n",
    "def get_summary(X, y):\n",
    "    \"\"\"\n",
    "    p-value를 체크하는 한다\n",
    "    \"\"\"\n",
    "    X2 = sm.add_constant(X)\n",
    "    est = sm.OLS(y, X2)\n",
    "    est2 = est.fit()\n",
    "    print(est2.summary())"
   ]
  },
  {
   "cell_type": "markdown",
   "id": "fde713e8",
   "metadata": {},
   "source": [
    "## 검정 함수"
   ]
  },
  {
   "cell_type": "markdown",
   "id": "5bd9190c",
   "metadata": {},
   "source": [
    "### vif 관련 함수"
   ]
  },
  {
   "cell_type": "code",
   "execution_count": null,
   "id": "771d8fcd",
   "metadata": {},
   "outputs": [],
   "source": [
    "least = 1000"
   ]
  },
  {
   "cell_type": "code",
   "execution_count": null,
   "id": "311a1038",
   "metadata": {},
   "outputs": [],
   "source": [
    "def get_vif(X, least=100, show=False):\n",
    "    \"\"\"\n",
    "    vif를 구하고 이를 데이터 프레임화\n",
    "    초기 vif 제한수를 100으로 지정\n",
    "    \"\"\"\n",
    "    from statsmodels.stats.outliers_influence import variance_inflation_factor\n",
    "\n",
    "    vif = pd.DataFrame()\n",
    "    vif['VIF Factor'] = [variance_inflation_factor(X.values, i) for i in range(X.shape[1])]\n",
    "    vif['features'] = X.columns\n",
    "    \n",
    "    if show:\n",
    "        print(vif, '\\n')\n",
    "        \n",
    "    vif = vif[vif['features'] != 'const']\n",
    "    return vif[vif['VIF Factor'] > least]"
   ]
  },
  {
   "cell_type": "markdown",
   "id": "e68bfc55",
   "metadata": {},
   "source": [
    "### AIC 기반 회귀 함수"
   ]
  },
  {
   "cell_type": "code",
   "execution_count": null,
   "id": "4248451a",
   "metadata": {},
   "outputs": [],
   "source": [
    "def processSubset(X, y, feature_set):\n",
    "    \"\"\"\n",
    "    OLS 기반으로 하여 \n",
    "    모델, AIC 점수, data, Feature들을 출력한다\n",
    "    \n",
    "    후에 getBest 함수에서 루프를 타고서\n",
    "    AIC 점수들을 비교하여 가장 낮은 점수를 출력하는데 도움을 준다\n",
    "    \"\"\"\n",
    "    feature = list(feature_set)\n",
    "    model = sm.OLS(y, X[feature])\n",
    "    regr = model.fit()\n",
    "    AIC = regr.aic\n",
    "    data = regr.summary()\n",
    "    \n",
    "    return {'model': regr, 'AIC': AIC, 'SUMMARY':data, 'Features':feature}"
   ]
  },
  {
   "cell_type": "code",
   "execution_count": null,
   "id": "8fbb10b8",
   "metadata": {},
   "outputs": [],
   "source": [
    "import time\n",
    "import itertools\n",
    "\n",
    "def getBest(X, y, k):\n",
    "    \"\"\" \n",
    "    k개의 Feature들의 조합 중 가장 낮은 AIC를 가지는 모델을 선택하고 저장하는 함수\n",
    "    출력물은 model, k개에 맞는 feature, AIC 점수 \n",
    "    \"\"\"\n",
    "    \n",
    "    results = []           # 결과 저장 공간\n",
    "    # 절편 컬럼을 제외한 모든 X컬럼의 경우의 수를 조합\n",
    "    iters = itertools.combinations(X.columns.difference(['const']), k) \n",
    "    \n",
    "    for combo in iters:\n",
    "        # 상수항을 추가하여 combo를 결성\n",
    "        combo = (list(combo)+['const'])\n",
    "        results.append(processSubset(X, y, feature_set = combo)) # 모델링된 것을 저장\n",
    "        \n",
    "        # 만약 k=2이면 여기서 두가지 변수만 뽑아서 경우의 수를 분헉하여\n",
    "        # 저장 후 그중 AIC가 가장 낮은 모델을 선택하도록 함\n",
    "        \n",
    "    models = pd.DataFrame(results)     # 데이터 프레임으로 모델결과 반환\n",
    "    best_model = models.loc[models['AIC'].argmin()]\n",
    "    \n",
    "    return best_model"
   ]
  },
  {
   "cell_type": "markdown",
   "id": "62615424",
   "metadata": {},
   "source": [
    "##### 전진 선택법"
   ]
  },
  {
   "cell_type": "code",
   "execution_count": null,
   "id": "9b683c9b",
   "metadata": {},
   "outputs": [],
   "source": [
    "def forward(X, y, predictors):\n",
    "    \"\"\"\n",
    "    forward 함수에서는 const를 제외한 모든 feature들을 포함한 AIC 점수를 반환한다.\n",
    "    predictor는 forward_model에서 정의된 매개변수다.\n",
    "    forward_model의 predictor에 AIC score를 계산하기 위한 변수들이 저장되며\n",
    "    그 저장된 변수들을 제외하고서 다시 AIC score를 계산하기 위한 함수\n",
    "    \"\"\"\n",
    "    # predictor - 현재 선택되어 있는 변수\n",
    "    # 데이터 변수들이 미리 정의된 predictors에 있는지 없는지 확인 및 분류\n",
    "    \n",
    "    remaining_predictors = [p for p in X.columns.difference(['const']) if p not in predictors]\n",
    "    results = []\n",
    "    for p in remaining_predictors:\n",
    "        results.append(processSubset(X=X, y=y, feature_set=predictors + [p] + ['const']))\n",
    "        \n",
    "    # 데이터 프레임으로 변환\n",
    "    models = pd.DataFrame(results)\n",
    "    # AIC가 가장 낮은 것을 선택\n",
    "    best_model = models.loc[models['AIC'].argmin()]\n",
    "    \n",
    "#     print('Processed ', models.shape[0], 'models on', len(predictors)+1)\n",
    "#     print('Selected predictors:', best_model['model'].model.exog_names, 'AIC: ', best_model[0])\n",
    "    \n",
    "    return best_model\n",
    "\n",
    "def forward_model(X, y):\n",
    "    \"\"\"\n",
    "    전진선택법 모델\n",
    "    loop를 돌며 forward 함수를 실행시키며 AIC score를 계산하고\n",
    "    이에 대한 정보를 저장하며 갱신해 나간다.\n",
    "    loop를 한번 돌때 쓰인 feature들은 predictors에 저장되며 \n",
    "    이는 forward 함수를 작동할 때 사용되지 않는 용도로 쓰인다.\n",
    "    \"\"\"\n",
    "    Fmodels = pd.DataFrame(columns=['AIC', 'model', 'SUMMARY', 'Features'])\n",
    "    \n",
    "    # 미리 정의된 데이터 변수\n",
    "    # forward에서 AIC를 구할 때 여기에 저장된 변수는 제거하고 계산한다\n",
    "    predictors = [ ]\n",
    "    \n",
    "    for i in range(1, len(X.columns.difference(['const']))+1):\n",
    "        Forward_result = forward(X, y, predictors)\n",
    "        if i > 1:\n",
    "            if Forward_result['AIC'] > Fmodel_before:\n",
    "                ### AIC 점수가 전의 점수보다 높으면 더이상 loop를 돌지 않고 종료 ###\n",
    "                break\n",
    "        Fmodels.loc[i] = Forward_result\n",
    "        # loop를 돌면서 getBest으로부터(Forward 내부) 계산된 독립변수들이 predictors에 저장됨\n",
    "        predictors = Fmodels.loc[i]['model'].model.exog_names\n",
    "        Fmodel_before = Fmodels.loc[i]['AIC']\n",
    "        ### const를 제외한 변수가 추가된다. ###\n",
    "        predictors = [ k for k in predictors if k != 'const' ]\n",
    "    return Fmodels"
   ]
  },
  {
   "cell_type": "markdown",
   "id": "8b24a6c5",
   "metadata": {},
   "source": [
    "##### 후진소거법"
   ]
  },
  {
   "cell_type": "code",
   "execution_count": null,
   "id": "4575eef7",
   "metadata": {},
   "outputs": [],
   "source": [
    "def backward(X, y, predictors):\n",
    "    \"\"\"\n",
    "    backward_model을 실행하기 위한 선행 함수\n",
    "    이 함수에서 back_ward의 predictors에 담긴 feature를 토대로 AIC score를 계산하고 저장한다\n",
    "    \n",
    "    for문에서 itertools의 combination을 통해 predictors의 숫자 중 -1의 조합으로 가능한 경우의 수를 구한다.\n",
    "    예) predictors = 6 일때 6C5 => 6개의 경우의 수 도출\n",
    "    \n",
    "    for문을 벗어나면 DataFrame에 저장된 AIC score 중 가장 낮은 레코드를 반환함\n",
    "    \"\"\"\n",
    "    results = []\n",
    "    \n",
    "    for combo in itertools.combinations(predictors, len(predictors) - 1):\n",
    "        results.append(processSubset(X, y, feature_set=list(combo) + ['const']))\n",
    "    models = pd.DataFrame(results)\n",
    "\n",
    "    # 가장 낮은 AIC를 가진 모델을 선택\n",
    "    best_model = models.loc[models['AIC'].argmin()]\n",
    "    \n",
    "    return best_model\n",
    "\n",
    "def backward_model(X, y):\n",
    "    \"\"\"\n",
    "    후진소거법\n",
    "    backward_model은 'const'를 제외한 모든 feature들을 predictors에 저장하고 시작한다.\n",
    "    AIC를 저장하는 Bmodel_before 변수의 초기값은 'const'를 제외한 모든 feature들을 고려한 AIC 값을 저장하고\n",
    "    이후 while문을 거치며 새로운 값으로 갱신함\n",
    "    \n",
    "    while 문 안에 있는 predictors에서 변수의 갯수를 최신화 하는데\n",
    "    이는 backward 함수 안에서 feature의 갯수를 하나씩 줄여나간다.\n",
    "    그리고 backward 함수에서 len(feature) Combination len(featrue)-1 의 경우의 수로 AIC score를 계산함\n",
    "    \n",
    "    while문 종료 조건은 2가지로 나눠진다.\n",
    "    1. 계산된 AIC가 이전 AIC보다 높을 시\n",
    "    2. 모든 변수를 사용했을시\n",
    "    \"\"\"\n",
    "    Bmodels = pd.DataFrame(columns= ['AIC', 'model', 'SUMMARY', 'Features'], index=range(1, len(X.columns)))\n",
    "    predictors = X.columns.difference(['const'])\n",
    "    Bmodel_before = processSubset(X, y, predictors)['AIC']\n",
    "    \n",
    "    idx = 1\n",
    "    while (len(predictors) > 1):\n",
    "        Backward_result = backward(X, y, predictors)\n",
    "        \n",
    "        # loop를 거치고 계산된 AIC가 이전 AIC보다 높으면 loop 종료\n",
    "        if Backward_result['AIC'] > Bmodel_before:\n",
    "            break\n",
    "        \n",
    "        Bmodels.loc[idx] = Backward_result\n",
    "        # model에 쓰인 feature들을 최신화 (이후 backward 함수에서 이 저장된 len(feature) combination len(feature)-1로 계산한다)\n",
    "        # backward 함수에서 feature의 갯수가 하나 줄어든다.\n",
    "        predictors = Bmodels.loc[idx]['model'].model.exog_names\n",
    "        Bmodel_before = Backward_result['AIC']\n",
    "        predictors = [ k for k in predictors if k != 'const' ]\n",
    "        idx += 1\n",
    "        \n",
    "    return Bmodels.dropna()"
   ]
  },
  {
   "cell_type": "markdown",
   "id": "a71eeb88",
   "metadata": {},
   "source": [
    "##### 단계적 선택법"
   ]
  },
  {
   "cell_type": "code",
   "execution_count": null,
   "id": "c266efce",
   "metadata": {},
   "outputs": [],
   "source": [
    "def Stepwise_model(X, y):\n",
    "    \"\"\"\n",
    "    단계적 선택법\n",
    "    초기 predictors는 X의 모든 Feature, \n",
    "    초기 AIC score는 모든 Feature들이 고려된 score로 시작\n",
    "    \n",
    "    후에 loop를 돌며 forward, backward 함수를 실행시켜 두 AIC 점수를 비교한다.\n",
    "    둘 중 작은 AIC 점수를 저장하고 Feature를 최신화한다.\n",
    "    \"\"\"\n",
    "    Stepmodels = pd.DataFrame(columns = ['AIC', 'model', 'SUMMARY', 'Features'])\n",
    "    predictors = []\n",
    "    # 모든 Feature들이 고려된 AIC score\n",
    "    Stepmodels.loc[0] = getBest(X, y, k=1)\n",
    "    predictors = Stepmodels.loc[0]['model'].model.exog_names\n",
    "    predictors = [ k for k in predictors if k != 'const' ]\n",
    "    Smodel_before = Stepmodels.loc[0]['AIC']\n",
    "\n",
    "    for i in range(2, len(X.columns.difference(['const'])) + 1):\n",
    "        \n",
    "        Forward_result = forward(X, y, predictors)\n",
    "        Backward_result = backward(X, y, predictors)\n",
    "\n",
    "        \n",
    "        if Backward_result['AIC'] < Forward_result['AIC']:\n",
    "            Stepmodels.loc[i] = Backward_result\n",
    "            predictors = Stepmodels.loc[i]['model'].model.exog_name\n",
    "            predictors = [ k for k in predictors if k != 'const' ]\n",
    "        else:\n",
    "            Stepmodels.loc[i] = Forward_result\n",
    "            predictors = Stepmodels.loc[i]['model'].model.exog_names\n",
    "            predictors = [ k for k in predictors if k != 'const' ]\n",
    "            \n",
    "        if Stepmodels.loc[i]['AIC'] > Smodel_before:\n",
    "            break\n",
    "        else:\n",
    "            Smodel_before = Stepmodels.loc[i]['AIC']\n",
    "            \n",
    "    return Stepmodels"
   ]
  },
  {
   "cell_type": "markdown",
   "id": "8f78abfc",
   "metadata": {},
   "source": [
    "##### **AIC 시각화**"
   ]
  },
  {
   "cell_type": "code",
   "execution_count": null,
   "id": "776694e0",
   "metadata": {
    "scrolled": false
   },
   "outputs": [],
   "source": [
    "def vis_AIC_step(result):\n",
    "    fig = plt.figure(figsize=(10, 10))\n",
    "    fig.set_facecolor('white')\n",
    "    \n",
    "    font_size = 15\n",
    "    steps = range(1, result.shape[0]+1)\n",
    "    AIC = result['AIC'].to_list()\n",
    "    features = [f'step {i+1}\\n' + '\\n'.join(s) for i, s in enumerate(result['Features'])]\n",
    "    \n",
    "    plt.xticks(steps, features, fontsize=12)\n",
    "    plt.plot(steps, AIC, marker='o')\n",
    "    \n",
    "    plt.ylabel('AIC', fontsize=font_size)\n",
    "    plt.grid(True)\n",
    "    plt.show()"
   ]
  },
  {
   "cell_type": "markdown",
   "id": "892f0294",
   "metadata": {},
   "source": [
    "### 최적화 함수"
   ]
  },
  {
   "cell_type": "code",
   "execution_count": null,
   "id": "5ec699ae",
   "metadata": {},
   "outputs": [],
   "source": [
    "def get_best_summary_by_A(model):\n",
    "    return model.sort_values('AIC').head(1)['SUMMARY'].iloc[0]\n",
    "\n",
    "def get_best_feature_by_A(model):\n",
    "    return model.sort_values('AIC').head(1)['Features'].iloc[0]\n",
    "\n",
    "def get_adj_r_squared_by_A_model(model):\n",
    "    summary = get_best_summary_by_A(model)\n",
    "    return float(str(summary).split('Adj. R-squared:')[1].split('Method')[0])"
   ]
  },
  {
   "cell_type": "markdown",
   "id": "67c0acbe",
   "metadata": {},
   "source": [
    "# Data Load"
   ]
  },
  {
   "cell_type": "markdown",
   "id": "5173362f",
   "metadata": {},
   "source": [
    "##### base 생성"
   ]
  },
  {
   "cell_type": "code",
   "execution_count": null,
   "id": "c55c41e8",
   "metadata": {},
   "outputs": [],
   "source": [
    "bs_area = gpd.read_file('data/geojson/상권_geometry_좌표.geojson', driver= 'GeoJSON')\n",
    "bs_area = bs_area[bs_area['TRDAR_SE_C'] == 'A']   # 골목상권만을 추출\n",
    "\n",
    "df_base = bs_area[['TRDAR_CD', 'TRDAR_SE_1']].sort_values('TRDAR_CD').reset_index(drop=True)\n",
    "df_base.columns = ['상권_코드', '상권_이름']\n",
    "df_base = get_object_type(df_base)\n",
    "df_base.head()"
   ]
  },
  {
   "cell_type": "code",
   "execution_count": null,
   "id": "255b629a",
   "metadata": {},
   "outputs": [],
   "source": []
  }
 ],
 "metadata": {
  "kernelspec": {
   "display_name": "Python 3",
   "language": "python",
   "name": "python3"
  },
  "language_info": {
   "codemirror_mode": {
    "name": "ipython",
    "version": 3
   },
   "file_extension": ".py",
   "mimetype": "text/x-python",
   "name": "python",
   "nbconvert_exporter": "python",
   "pygments_lexer": "ipython3",
   "version": "3.8.8"
  },
  "toc": {
   "base_numbering": 1,
   "nav_menu": {},
   "number_sections": true,
   "sideBar": true,
   "skip_h1_title": false,
   "title_cell": "Table of Contents",
   "title_sidebar": "Contents",
   "toc_cell": false,
   "toc_position": {
    "height": "calc(100% - 180px)",
    "left": "10px",
    "top": "150px",
    "width": "384px"
   },
   "toc_section_display": true,
   "toc_window_display": true
  },
  "varInspector": {
   "cols": {
    "lenName": 16,
    "lenType": 16,
    "lenVar": 40
   },
   "kernels_config": {
    "python": {
     "delete_cmd_postfix": "",
     "delete_cmd_prefix": "del ",
     "library": "var_list.py",
     "varRefreshCmd": "print(var_dic_list())"
    },
    "r": {
     "delete_cmd_postfix": ") ",
     "delete_cmd_prefix": "rm(",
     "library": "var_list.r",
     "varRefreshCmd": "cat(var_dic_list()) "
    }
   },
   "types_to_exclude": [
    "module",
    "function",
    "builtin_function_or_method",
    "instance",
    "_Feature"
   ],
   "window_display": false
  }
 },
 "nbformat": 4,
 "nbformat_minor": 5
}
