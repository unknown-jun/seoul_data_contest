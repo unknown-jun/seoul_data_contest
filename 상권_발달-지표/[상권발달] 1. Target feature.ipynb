{
 "cells": [
  {
   "cell_type": "markdown",
   "id": "21c3e0f8",
   "metadata": {},
   "source": [
    "# 라이브러리 로드"
   ]
  },
  {
   "cell_type": "code",
   "execution_count": 1,
   "id": "7d743211",
   "metadata": {},
   "outputs": [],
   "source": [
    "import tqdm\n",
    "import warnings\n",
    "import numpy as np\n",
    "import pandas as pd\n",
    "import seaborn as sns\n",
    "import geopandas as gpd\n",
    "import matplotlib.pyplot as plt\n",
    "\n",
    "from scipy.stats import skew \n",
    "from scipy.stats import norm\n",
    "from sklearn.linear_model import LinearRegression\n",
    "from sklearn.model_selection import train_test_split\n",
    "from sklearn.metrics import mean_squared_error, r2_score\n",
    "\n",
    "warnings.filterwarnings(action='ignore')\n",
    "plt.style.use('seaborn-whitegrid')\n",
    "plt.rc('font', family='Malgun Gothic')  # 한글 폰트 사용을 위해서 세팅\n",
    "pd.set_option('max_columns', 80) # 최대 컬럼 갯수 지정\n",
    "pd.set_option('max_rows', 80) # 최대 로우 갯수 지정"
   ]
  },
  {
   "cell_type": "markdown",
   "id": "7d28561e",
   "metadata": {},
   "source": [
    "##### 필요함수 정의"
   ]
  },
  {
   "cell_type": "code",
   "execution_count": 2,
   "id": "69943f7c",
   "metadata": {},
   "outputs": [],
   "source": [
    "def load_data(path):\n",
    "    df = pd.read_csv(path, encoding='CP949')\n",
    "    df = df[ df['상권_구분_코드']=='A' ]  # 골목상권으로 테이블 제한\n",
    "    \n",
    "    return df"
   ]
  },
  {
   "cell_type": "markdown",
   "id": "39c676f4",
   "metadata": {},
   "source": [
    "# 데이터 로드"
   ]
  },
  {
   "cell_type": "code",
   "execution_count": 3,
   "id": "706e15be",
   "metadata": {
    "scrolled": true
   },
   "outputs": [
    {
     "name": "stdout",
     "output_type": "stream",
     "text": [
      "(1009, 1)\n"
     ]
    },
    {
     "data": {
      "text/html": [
       "<div>\n",
       "<style scoped>\n",
       "    .dataframe tbody tr th:only-of-type {\n",
       "        vertical-align: middle;\n",
       "    }\n",
       "\n",
       "    .dataframe tbody tr th {\n",
       "        vertical-align: top;\n",
       "    }\n",
       "\n",
       "    .dataframe thead th {\n",
       "        text-align: right;\n",
       "    }\n",
       "</style>\n",
       "<table border=\"1\" class=\"dataframe\">\n",
       "  <thead>\n",
       "    <tr style=\"text-align: right;\">\n",
       "      <th></th>\n",
       "      <th>상권_코드</th>\n",
       "    </tr>\n",
       "  </thead>\n",
       "  <tbody>\n",
       "    <tr>\n",
       "      <th>0</th>\n",
       "      <td>1000001</td>\n",
       "    </tr>\n",
       "    <tr>\n",
       "      <th>1</th>\n",
       "      <td>1000002</td>\n",
       "    </tr>\n",
       "    <tr>\n",
       "      <th>2</th>\n",
       "      <td>1000003</td>\n",
       "    </tr>\n",
       "    <tr>\n",
       "      <th>3</th>\n",
       "      <td>1000004</td>\n",
       "    </tr>\n",
       "    <tr>\n",
       "      <th>4</th>\n",
       "      <td>1000005</td>\n",
       "    </tr>\n",
       "  </tbody>\n",
       "</table>\n",
       "</div>"
      ],
      "text/plain": [
       "     상권_코드\n",
       "0  1000001\n",
       "1  1000002\n",
       "2  1000003\n",
       "3  1000004\n",
       "4  1000005"
      ]
     },
     "execution_count": 3,
     "metadata": {},
     "output_type": "execute_result"
    }
   ],
   "source": [
    "df_2021 = load_data('./data/row_data/서울시 우리마을가게 상권분석서비스(상권-추정매출).csv')\n",
    "df_2020 = load_data('./data/row_data/서울시 우리마을가게상권분석서비스(상권-추정매출)_2020.csv')\n",
    "df_2019 = load_data('./data/row_data/서울시 우리마을가게 상권분석서비스(상권-추정매출)_2019.csv')\n",
    "df_2018 = load_data('./data/row_data/서울시 우리마을가게 상권분석서비스(상권-추정매출)_2018.csv')\n",
    "df_2017 = load_data('./data/row_data/서울시 우리마을가게 상권분석서비스(상권-추정매출)_2017.csv')\n",
    "\n",
    "# 기준 인덱스가 될 테이블 생성\n",
    "bs_area = gpd.read_file('data/geojson/상권_geometry_좌표.geojson', driver= 'GeoJSON')\n",
    "bs_area= bs_area[bs_area['TRDAR_SE_C'] == 'A']\n",
    "\n",
    "df_base = bs_area['TRDAR_CD'].sort_values( ).reset_index(drop=True).to_frame()\n",
    "df_base.columns = ['상권_코드']\n",
    "\n",
    "df_base.drop(804, axis=0, inplace=True)  # 2020년 이전은 존재하지 않는 상권코드\n",
    "df_base['상권_코드'] = df_base['상권_코드'].astype(int)\n",
    "df_base.to_csv('./data/base_data/df_base.csv', index=False)\n",
    "\n",
    "print(df_base.shape)\n",
    "df_base.head()"
   ]
  },
  {
   "cell_type": "code",
   "execution_count": 38,
   "id": "373f3a74",
   "metadata": {},
   "outputs": [
    {
     "data": {
      "text/html": [
       "<div>\n",
       "<style scoped>\n",
       "    .dataframe tbody tr th:only-of-type {\n",
       "        vertical-align: middle;\n",
       "    }\n",
       "\n",
       "    .dataframe tbody tr th {\n",
       "        vertical-align: top;\n",
       "    }\n",
       "\n",
       "    .dataframe thead th {\n",
       "        text-align: right;\n",
       "    }\n",
       "</style>\n",
       "<table border=\"1\" class=\"dataframe\">\n",
       "  <thead>\n",
       "    <tr style=\"text-align: right;\">\n",
       "      <th></th>\n",
       "      <th>분기당_매출_건수_2017</th>\n",
       "      <th>분기당_매출_건수_2018</th>\n",
       "      <th>분기당_매출_건수_2019</th>\n",
       "      <th>분기당_매출_건수_2020</th>\n",
       "      <th>분기당_매출_건수</th>\n",
       "    </tr>\n",
       "    <tr>\n",
       "      <th>상권_코드</th>\n",
       "      <th></th>\n",
       "      <th></th>\n",
       "      <th></th>\n",
       "      <th></th>\n",
       "      <th></th>\n",
       "    </tr>\n",
       "  </thead>\n",
       "  <tbody>\n",
       "    <tr>\n",
       "      <th>1000001</th>\n",
       "      <td>1256289</td>\n",
       "      <td>1271610</td>\n",
       "      <td>1111664</td>\n",
       "      <td>995901</td>\n",
       "      <td>524965</td>\n",
       "    </tr>\n",
       "    <tr>\n",
       "      <th>1000002</th>\n",
       "      <td>1071093</td>\n",
       "      <td>1249259</td>\n",
       "      <td>1106194</td>\n",
       "      <td>841004</td>\n",
       "      <td>407875</td>\n",
       "    </tr>\n",
       "    <tr>\n",
       "      <th>1000003</th>\n",
       "      <td>1432450</td>\n",
       "      <td>1787480</td>\n",
       "      <td>1496646</td>\n",
       "      <td>1344778</td>\n",
       "      <td>601382</td>\n",
       "    </tr>\n",
       "    <tr>\n",
       "      <th>1000004</th>\n",
       "      <td>3201450</td>\n",
       "      <td>2529601</td>\n",
       "      <td>1521309</td>\n",
       "      <td>1105801</td>\n",
       "      <td>537648</td>\n",
       "    </tr>\n",
       "    <tr>\n",
       "      <th>1000005</th>\n",
       "      <td>517763</td>\n",
       "      <td>518973</td>\n",
       "      <td>396981</td>\n",
       "      <td>385697</td>\n",
       "      <td>171974</td>\n",
       "    </tr>\n",
       "  </tbody>\n",
       "</table>\n",
       "</div>"
      ],
      "text/plain": [
       "         분기당_매출_건수_2017  분기당_매출_건수_2018  분기당_매출_건수_2019  분기당_매출_건수_2020  \\\n",
       "상권_코드                                                                     \n",
       "1000001         1256289         1271610         1111664          995901   \n",
       "1000002         1071093         1249259         1106194          841004   \n",
       "1000003         1432450         1787480         1496646         1344778   \n",
       "1000004         3201450         2529601         1521309         1105801   \n",
       "1000005          517763          518973          396981          385697   \n",
       "\n",
       "         분기당_매출_건수  \n",
       "상권_코드               \n",
       "1000001     524965  \n",
       "1000002     407875  \n",
       "1000003     601382  \n",
       "1000004     537648  \n",
       "1000005     171974  "
      ]
     },
     "execution_count": 38,
     "metadata": {},
     "output_type": "execute_result"
    }
   ],
   "source": [
    "income_2017 = df_2017.groupby(['상권_코드'])['분기당_매출_건수'].sum().to_frame()\n",
    "income_2018 = df_2018.groupby(['상권_코드'])['분기당_매출_건수'].sum().to_frame()\n",
    "income_2019 = df_2019.groupby(['상권_코드'])['분기당_매출_건수'].sum().to_frame()\n",
    "income_2020 = df_2020.groupby(['상권_코드'])['분기당_매출_건수'].sum().to_frame()\n",
    "income_2021 = df_2021.groupby(['상권_코드'])['분기당_매출_건수'].sum().to_frame()\n",
    "\n",
    "df_full = pd.merge(df_base, income_2017, left_on='상권_코드', right_index=True, )\n",
    "df_full = pd.merge(df_full, income_2018, on='상권_코드', suffixes=('_2017', '_2018'))\n",
    "df_full = pd.merge(df_full, income_2019, on='상권_코드', suffixes=('_2018', '_2019'))\n",
    "df_full = pd.merge(df_full, income_2020, on='상권_코드', suffixes=('_2019', '_2020'))\n",
    "df_full = pd.merge(df_full, income_2021, on='상권_코드', suffixes=('_2020', '_2021'))\n",
    "df_full.set_index('상권_코드', inplace=True)\n",
    "df_full.head()"
   ]
  },
  {
   "cell_type": "code",
   "execution_count": 39,
   "id": "474c659d",
   "metadata": {},
   "outputs": [
    {
     "data": {
      "text/html": [
       "<div>\n",
       "<style scoped>\n",
       "    .dataframe tbody tr th:only-of-type {\n",
       "        vertical-align: middle;\n",
       "    }\n",
       "\n",
       "    .dataframe tbody tr th {\n",
       "        vertical-align: top;\n",
       "    }\n",
       "\n",
       "    .dataframe thead th {\n",
       "        text-align: right;\n",
       "    }\n",
       "</style>\n",
       "<table border=\"1\" class=\"dataframe\">\n",
       "  <thead>\n",
       "    <tr style=\"text-align: right;\">\n",
       "      <th></th>\n",
       "      <th>상권_코드</th>\n",
       "      <th>합계</th>\n",
       "    </tr>\n",
       "  </thead>\n",
       "  <tbody>\n",
       "    <tr>\n",
       "      <th>0</th>\n",
       "      <td>1000001</td>\n",
       "      <td>5160429</td>\n",
       "    </tr>\n",
       "    <tr>\n",
       "      <th>1</th>\n",
       "      <td>1000002</td>\n",
       "      <td>4675425</td>\n",
       "    </tr>\n",
       "    <tr>\n",
       "      <th>2</th>\n",
       "      <td>1000003</td>\n",
       "      <td>6662736</td>\n",
       "    </tr>\n",
       "    <tr>\n",
       "      <th>3</th>\n",
       "      <td>1000004</td>\n",
       "      <td>8895809</td>\n",
       "    </tr>\n",
       "    <tr>\n",
       "      <th>4</th>\n",
       "      <td>1000005</td>\n",
       "      <td>1991388</td>\n",
       "    </tr>\n",
       "  </tbody>\n",
       "</table>\n",
       "</div>"
      ],
      "text/plain": [
       "     상권_코드       합계\n",
       "0  1000001  5160429\n",
       "1  1000002  4675425\n",
       "2  1000003  6662736\n",
       "3  1000004  8895809\n",
       "4  1000005  1991388"
      ]
     },
     "execution_count": 39,
     "metadata": {},
     "output_type": "execute_result"
    }
   ],
   "source": [
    "df_full['합계'] = df_full.sum(axis=1)\n",
    "df_full.reset_index(inplace=True)\n",
    "target = df_full[['상권_코드', '합계']].set_index('상권_코드')\n",
    "\n",
    "target.to_csv('./data/base_data/target.csv')\n",
    "pd.read_csv('./data/base_data/target.csv').head()"
   ]
  }
 ],
 "metadata": {
  "kernelspec": {
   "display_name": "Python 3",
   "language": "python",
   "name": "python3"
  },
  "language_info": {
   "codemirror_mode": {
    "name": "ipython",
    "version": 3
   },
   "file_extension": ".py",
   "mimetype": "text/x-python",
   "name": "python",
   "nbconvert_exporter": "python",
   "pygments_lexer": "ipython3",
   "version": "3.8.8"
  },
  "toc": {
   "base_numbering": 1,
   "nav_menu": {},
   "number_sections": true,
   "sideBar": true,
   "skip_h1_title": false,
   "title_cell": "Table of Contents",
   "title_sidebar": "Contents",
   "toc_cell": false,
   "toc_position": {},
   "toc_section_display": true,
   "toc_window_display": false
  },
  "varInspector": {
   "cols": {
    "lenName": 16,
    "lenType": 16,
    "lenVar": 40
   },
   "kernels_config": {
    "python": {
     "delete_cmd_postfix": "",
     "delete_cmd_prefix": "del ",
     "library": "var_list.py",
     "varRefreshCmd": "print(var_dic_list())"
    },
    "r": {
     "delete_cmd_postfix": ") ",
     "delete_cmd_prefix": "rm(",
     "library": "var_list.r",
     "varRefreshCmd": "cat(var_dic_list()) "
    }
   },
   "types_to_exclude": [
    "module",
    "function",
    "builtin_function_or_method",
    "instance",
    "_Feature"
   ],
   "window_display": false
  }
 },
 "nbformat": 4,
 "nbformat_minor": 5
}
